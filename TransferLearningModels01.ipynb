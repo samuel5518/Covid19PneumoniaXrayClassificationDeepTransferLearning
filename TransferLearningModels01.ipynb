{
  "nbformat": 4,
  "nbformat_minor": 0,
  "metadata": {
    "colab": {
      "name": "TransferLearningModels01.ipynb",
      "provenance": [],
      "collapsed_sections": [],
      "toc_visible": true
    },
    "kernelspec": {
      "name": "python3",
      "display_name": "Python 3"
    },
    "language_info": {
      "name": "python"
    },
    "accelerator": "GPU"
  },
  "cells": [
    {
      "cell_type": "code",
      "metadata": {
        "colab": {
          "base_uri": "https://localhost:8080/"
        },
        "id": "In66aSZd9lr5",
        "outputId": "db138f8a-cc7d-4da7-b4ec-c1f1902a8163"
      },
      "source": [
        "from google.colab import drive\n",
        "drive.mount('/content/drive')"
      ],
      "execution_count": null,
      "outputs": [
        {
          "output_type": "stream",
          "text": [
            "Mounted at /content/drive\n"
          ],
          "name": "stdout"
        }
      ]
    },
    {
      "cell_type": "code",
      "metadata": {
        "id": "hO7QNbOT-A5z"
      },
      "source": [
        "import os\n",
        "import glob\n",
        "import numpy as np\n",
        "import tensorflow as tf\n",
        "import datetime\n",
        "from tensorflow.keras import layers\n",
        "from tensorflow import keras \n",
        "import matplotlib.pyplot as plt\n",
        "import seaborn as sns\n",
        "\n",
        "\n",
        "# Importing all necessary libraries \n",
        "from keras.preprocessing.image import ImageDataGenerator \n",
        "from keras.models import Sequential, Model\n",
        "from keras.layers import Conv2D, MaxPooling2D, Dense, GlobalAveragePooling2D\n",
        "from keras.layers import Activation, Dropout, Flatten, Dense \n",
        "from keras.layers.normalization import BatchNormalization\n",
        "from sklearn.metrics import classification_report\n",
        "from keras import backend as K  \n",
        "from keras.callbacks import EarlyStopping\n",
        "from sklearn.metrics import classification_report, confusion_matrix\n",
        "from sklearn.utils import class_weight\n"
      ],
      "execution_count": null,
      "outputs": []
    },
    {
      "cell_type": "code",
      "metadata": {
        "colab": {
          "base_uri": "https://localhost:8080/"
        },
        "id": "HC4m9NJt-A8N",
        "outputId": "a9069453-0c9a-4cad-ee11-65ae888e1ba7"
      },
      "source": [
        "print(tf.__version__)"
      ],
      "execution_count": null,
      "outputs": [
        {
          "output_type": "stream",
          "text": [
            "2.4.1\n"
          ],
          "name": "stdout"
        }
      ]
    },
    {
      "cell_type": "code",
      "metadata": {
        "colab": {
          "base_uri": "https://localhost:8080/"
        },
        "id": "58FVEuhMELPj",
        "outputId": "7cd2b5e4-b33f-48d1-ab99-4e3168854a09"
      },
      "source": [
        "tf.config.list_physical_devices('GPU')"
      ],
      "execution_count": null,
      "outputs": [
        {
          "output_type": "execute_result",
          "data": {
            "text/plain": [
              "[PhysicalDevice(name='/physical_device:GPU:0', device_type='GPU')]"
            ]
          },
          "metadata": {
            "tags": []
          },
          "execution_count": 4
        }
      ]
    },
    {
      "cell_type": "code",
      "metadata": {
        "colab": {
          "base_uri": "https://localhost:8080/"
        },
        "id": "2tpTj7Q9ELSL",
        "outputId": "19ab316a-23d9-48a3-9efc-3c659e716fca"
      },
      "source": [
        "from tensorflow.python.client import device_lib\n",
        "print(device_lib.list_local_devices())"
      ],
      "execution_count": null,
      "outputs": [
        {
          "output_type": "stream",
          "text": [
            "[name: \"/device:CPU:0\"\n",
            "device_type: \"CPU\"\n",
            "memory_limit: 268435456\n",
            "locality {\n",
            "}\n",
            "incarnation: 16682336098661716846\n",
            ", name: \"/device:GPU:0\"\n",
            "device_type: \"GPU\"\n",
            "memory_limit: 14674281152\n",
            "locality {\n",
            "  bus_id: 1\n",
            "  links {\n",
            "  }\n",
            "}\n",
            "incarnation: 6516809301697368005\n",
            "physical_device_desc: \"device: 0, name: Tesla T4, pci bus id: 0000:00:04.0, compute capability: 7.5\"\n",
            "]\n"
          ],
          "name": "stdout"
        }
      ]
    },
    {
      "cell_type": "code",
      "metadata": {
        "colab": {
          "base_uri": "https://localhost:8080/"
        },
        "id": "o_1FG9SlFt58",
        "outputId": "549da592-0ed3-4861-80b7-943dc96bf75e"
      },
      "source": [
        "from google.colab import files\n",
        "!ls"
      ],
      "execution_count": null,
      "outputs": [
        {
          "output_type": "stream",
          "text": [
            "drive  sample_data  xmodel.h5\n"
          ],
          "name": "stdout"
        }
      ]
    },
    {
      "cell_type": "code",
      "metadata": {
        "colab": {
          "base_uri": "https://localhost:8080/",
          "height": 35
        },
        "id": "lozvvMjOxzxP",
        "outputId": "5481f9eb-c2b1-4b0b-a8c5-0a04d21cf607"
      },
      "source": [
        "import os\n",
        "cwd = os.getcwd()\n",
        "cwd"
      ],
      "execution_count": null,
      "outputs": [
        {
          "output_type": "execute_result",
          "data": {
            "application/vnd.google.colaboratory.intrinsic+json": {
              "type": "string"
            },
            "text/plain": [
              "'/content'"
            ]
          },
          "metadata": {
            "tags": []
          },
          "execution_count": 78
        }
      ]
    },
    {
      "cell_type": "code",
      "metadata": {
        "id": "z9BLlP3RsWDL"
      },
      "source": [
        "from PIL import Image \n",
        "\n",
        "def get_avg_size(x):\n",
        "  folder_images = \"/content/drive/MyDrive/Colab Notebooks/ML_Assignment_3GroupsLungXraysData/train/\"+str(x)\n",
        "  size_images_width = []\n",
        "  size_images_height = []\n",
        "\n",
        "  for dirpath, _, filenames in os.walk(folder_images):\n",
        "      for path_image in filenames:\n",
        "          image = os.path.abspath(os.path.join(dirpath, path_image))\n",
        "          with Image.open(image) as img:\n",
        "              width, height = img.size\n",
        "              size_images_width.append(width)\n",
        "              size_images_height.append(height)\n",
        "\n",
        "  x = sum(size_images_width) / len(size_images_width)\n",
        "  y = sum(size_images_height) / len(size_images_height)\n",
        "  print(x,y)\n"
      ],
      "execution_count": null,
      "outputs": []
    },
    {
      "cell_type": "code",
      "metadata": {
        "colab": {
          "base_uri": "https://localhost:8080/"
        },
        "id": "O9tIR9Ilv54Q",
        "outputId": "93be4ee5-3c70-4b7b-b60e-10c91fd67163"
      },
      "source": [
        "print(\"Avg img size for covid19 folder: \")\n",
        "get_avg_size(\"COVID19\")\n",
        "print()\n",
        "print(\"Avg img size for normal folder: \")\n",
        "get_avg_size(\"NORMAL\")\n",
        "print()\n",
        "print(\"Avg img size for pneumonia folder: \")\n",
        "get_avg_size(\"PNEUMONIA\")"
      ],
      "execution_count": null,
      "outputs": [
        {
          "output_type": "stream",
          "text": [
            "Avg img size for covid19 folder: \n",
            "1439.7739130434782 1309.5586956521738\n",
            "\n",
            "Avg img size for normal folder: \n",
            "1665.6856240126383 1376.1137440758293\n",
            "\n",
            "Avg img size for pneumonia folder: \n",
            "1189.5617320070216 828.5772381509655\n"
          ],
          "name": "stdout"
        }
      ]
    },
    {
      "cell_type": "code",
      "metadata": {
        "colab": {
          "base_uri": "https://localhost:8080/"
        },
        "id": "txELNU0pJayU",
        "outputId": "55795258-559a-4ef5-9b5b-0de8ab5f292f"
      },
      "source": [
        "import fnmatch\n",
        "print(\"Training Set:\" + \"\\n\")\n",
        "\n",
        "dirpath = \"/content/drive/MyDrive/Colab Notebooks/ML_Assignment_3GroupsLungXraysData/train/COVID19\"\n",
        "print(\"COVID19: \" + str(len(fnmatch.filter(os.listdir(dirpath), '*.jpg'))) )\n",
        "\n",
        "dirpath = \"/content/drive/MyDrive/Colab Notebooks/ML_Assignment_3GroupsLungXraysData/train/NORMAL\"\n",
        "print(\"NORMAL: \" + str(len(fnmatch.filter(os.listdir(dirpath), '*.jpg'))) )\n",
        "\n",
        "dirpath = \"/content/drive/MyDrive/Colab Notebooks/ML_Assignment_3GroupsLungXraysData/train/PNEUMONIA\"\n",
        "print(\"PNEUMONIA: \" + str(len(fnmatch.filter(os.listdir(dirpath), '*.jpg' ))) + \"\\n\")\n",
        "\n",
        "print(\"Validation Set:\" + \"\\n\")\n",
        "\n",
        "dirpath = \"/content/drive/MyDrive/Colab Notebooks/ML_Assignment_3GroupsLungXraysData/test/COVID19\"\n",
        "print(\"COVID19: \" + str(len(fnmatch.filter(os.listdir(dirpath), '*.jpg'))) )\n",
        "\n",
        "dirpath = \"/content/drive/MyDrive/Colab Notebooks/ML_Assignment_3GroupsLungXraysData/test/NORMAL\"\n",
        "print(\"NORMAL: \" + str(len(fnmatch.filter(os.listdir(dirpath), '*.jpg'))) )\n",
        "\n",
        "dirpath = \"/content/drive/MyDrive/Colab Notebooks/ML_Assignment_3GroupsLungXraysData/test/PNEUMONIA\"\n",
        "print(\"PNEUMONIA: \" + str(len(fnmatch.filter(os.listdir(dirpath), '*.jpg'))) )\n"
      ],
      "execution_count": null,
      "outputs": [
        {
          "output_type": "stream",
          "text": [
            "Training Set:\n",
            "\n",
            "COVID19: 460\n",
            "NORMAL: 1266\n",
            "PNEUMONIA: 3418\n",
            "\n",
            "Validation Set:\n",
            "\n",
            "COVID19: 116\n",
            "NORMAL: 317\n",
            "PNEUMONIA: 855\n"
          ],
          "name": "stdout"
        }
      ]
    },
    {
      "cell_type": "code",
      "metadata": {
        "id": "szOFpKeRqcL8"
      },
      "source": [
        "from tensorflow.keras.applications.xception import Xception\n",
        "from tensorflow.keras.applications.inception_resnet_v2 import InceptionResNetV2\n",
        "from tensorflow.keras.applications.resnet_v2 import ResNet152V2\n",
        "from tensorflow.keras.applications.nasnet import NASNetLarge"
      ],
      "execution_count": null,
      "outputs": []
    },
    {
      "cell_type": "code",
      "metadata": {
        "id": "4vnCZIxKrmcz"
      },
      "source": [
        ""
      ],
      "execution_count": null,
      "outputs": []
    },
    {
      "cell_type": "code",
      "metadata": {
        "id": "A71knSPzrl3k"
      },
      "source": [
        ""
      ],
      "execution_count": null,
      "outputs": []
    },
    {
      "cell_type": "markdown",
      "metadata": {
        "id": "eS_FmISt-1k2"
      },
      "source": [
        "# **NASNetLarge Model:**"
      ]
    },
    {
      "cell_type": "code",
      "metadata": {
        "id": "0owzgQqKF4wK",
        "colab": {
          "base_uri": "https://localhost:8080/"
        },
        "outputId": "e8a0b1b1-4c0d-4724-f3f0-646f93b1a7c8"
      },
      "source": [
        "\n",
        "# NASNetLarge\n",
        "\n",
        "img_width, img_height = 331, 331\n",
        "\n",
        "train_data_dir = \"/content/drive/MyDrive/Colab Notebooks/ML_Assignment_3GroupsLungXraysData/train\"\n",
        "validation_data_dir = \"/content/drive/MyDrive/Colab Notebooks/ML_Assignment_3GroupsLungXraysData/test\"\n",
        "nb_train_samples = 5147 \n",
        "nb_validation_samples = 1291\n",
        "epochs = 15\n",
        "batch_size = 64\n",
        "\n",
        "input_shape = (img_width, img_height, 3) \n",
        "\n",
        "nasnet=NASNetLarge(include_top=False ,weights='imagenet', input_shape=input_shape)\n",
        "\n",
        "for layer in nasnet.layers:\n",
        "   layer.trainable = False\n",
        "\n",
        "x=GlobalAveragePooling2D()(nasnet.output)\n",
        "x=Dense(512, activation='relu')(x)\n",
        "prediction=Dense(3,activation='softmax')(x)\n",
        "model=Model(inputs=nasnet.input,outputs=prediction)\n",
        "\n",
        "model.compile(optimizer='adam', loss='categorical_crossentropy', metrics=['accuracy'])\n",
        "\n",
        "train_datagen = ImageDataGenerator( \n",
        "    rescale=1. / 255, \n",
        "    rotation_range=20,\n",
        "    shear_range=0.2, \n",
        "    zoom_range=0.2, \n",
        "    horizontal_flip=True) \n",
        "  \n",
        "test_datagen = ImageDataGenerator(rescale=1. / 255) \n",
        "  \n",
        "train_generator = train_datagen.flow_from_directory( \n",
        "    train_data_dir, \n",
        "    target_size=(img_width, img_height), \n",
        "    batch_size=batch_size, \n",
        "    class_mode='categorical') \n",
        "  \n",
        "validation_generator = test_datagen.flow_from_directory( \n",
        "    validation_data_dir, \n",
        "    target_size=(img_width, img_height), \n",
        "    batch_size=batch_size, \n",
        "    class_mode='categorical',\n",
        "    shuffle=False) \n",
        "\n",
        "now = datetime.datetime.now()\n",
        "print (\"Current date and time : \")\n",
        "print (now.strftime(\"%Y-%m-%d %H:%M:%S\"))\n",
        "\n",
        "es = EarlyStopping(monitor='val_loss', mode='min', verbose=1, patience=3)\n",
        "\n",
        "h = model.fit( \n",
        "    train_generator, \n",
        "    steps_per_epoch=nb_train_samples // batch_size, \n",
        "    epochs=epochs, \n",
        "    validation_data=validation_generator, \n",
        "    validation_steps=nb_validation_samples // batch_size,\n",
        "    callbacks=[es])"
      ],
      "execution_count": null,
      "outputs": [
        {
          "output_type": "stream",
          "text": [
            "Found 5144 images belonging to 3 classes.\n",
            "Found 1288 images belonging to 3 classes.\n",
            "Current date and time : \n",
            "2021-04-06 09:59:28\n",
            "Epoch 1/15\n",
            "80/80 [==============================] - 326s 4s/step - loss: 0.5187 - accuracy: 0.8169 - val_loss: 0.5282 - val_accuracy: 0.7891\n",
            "Epoch 2/15\n",
            "80/80 [==============================] - 303s 4s/step - loss: 0.1889 - accuracy: 0.9301 - val_loss: 0.2098 - val_accuracy: 0.9219\n",
            "Epoch 3/15\n",
            "80/80 [==============================] - 303s 4s/step - loss: 0.1727 - accuracy: 0.9285 - val_loss: 0.2122 - val_accuracy: 0.9203\n",
            "Epoch 4/15\n",
            "80/80 [==============================] - 303s 4s/step - loss: 0.1801 - accuracy: 0.9365 - val_loss: 0.2142 - val_accuracy: 0.9250\n",
            "Epoch 5/15\n",
            "80/80 [==============================] - 302s 4s/step - loss: 0.1578 - accuracy: 0.9358 - val_loss: 0.2195 - val_accuracy: 0.9211\n",
            "Epoch 00005: early stopping\n"
          ],
          "name": "stdout"
        }
      ]
    },
    {
      "cell_type": "code",
      "metadata": {
        "colab": {
          "base_uri": "https://localhost:8080/",
          "height": 626
        },
        "id": "h-Ngz_7Bv3oa",
        "outputId": "1441017f-2297-4dce-de5c-19a89a01f555"
      },
      "source": [
        "# plot the training loss and accuracy\n",
        "N = 5\n",
        "plt.style.use(\"ggplot\")\n",
        "plt.figure(figsize=(10,10))\n",
        "plt.plot(np.arange(0, N), h.history[\"loss\"], label=\"train_loss\")\n",
        "plt.plot(np.arange(0, N), h.history[\"val_loss\"], label=\"val_loss\")\n",
        "plt.plot(np.arange(0, N), h.history[\"accuracy\"], label=\"train_acc\")\n",
        "plt.plot(np.arange(0, N), h.history[\"val_accuracy\"], label=\"val_acc\")\n",
        "plt.title(\"Training Loss and Accuracy on Dataset\")\n",
        "plt.xlabel(\"Epoch #\")\n",
        "plt.ylabel(\"Loss/Accuracy\")\n",
        "plt.legend(loc=\"lower left\")\n",
        "#plt.savefig(\"plot.png\")\n",
        "plt.show()"
      ],
      "execution_count": null,
      "outputs": [
        {
          "output_type": "display_data",
          "data": {
            "image/png": "[encoded data removed]",
            "text/plain": [
              "<Figure size 720x720 with 1 Axes>"
            ]
          },
          "metadata": {
            "tags": []
          }
        }
      ]
    },
    {
      "cell_type": "code",
      "metadata": {
        "colab": {
          "base_uri": "https://localhost:8080/"
        },
        "id": "4JpXnMTO-KNG",
        "outputId": "517b0d98-8a88-4e49-f4b4-aff5d5a60b99"
      },
      "source": [
        "Y_pred = model.predict(validation_generator, 1288 // 64 + 1)\n",
        "y_pred = np.argmax(Y_pred, axis=1)\n",
        "\n",
        "true_classes = validation_generator.classes\n",
        "class_labels = list(validation_generator.class_indices.keys())\n",
        "\n",
        "print('Confusion Matrix')\n",
        "conf = confusion_matrix(validation_generator.classes, y_pred)\n",
        "print(conf)\n",
        "print('Classification Report')\n",
        "target_names = ['COVID19', 'NORMAL', 'PNEUMONIA']\n",
        "print(classification_report(true_classes, y_pred, target_names=class_labels))"
      ],
      "execution_count": null,
      "outputs": [
        {
          "output_type": "stream",
          "text": [
            "Confusion Matrix\n",
            "[[ 97   0  19]\n",
            " [  1 278  38]\n",
            " [  0  43 812]]\n",
            "Classification Report\n",
            "              precision    recall  f1-score   support\n",
            "\n",
            "     COVID19       0.99      0.84      0.91       116\n",
            "      NORMAL       0.87      0.88      0.87       317\n",
            "   PNEUMONIA       0.93      0.95      0.94       855\n",
            "\n",
            "    accuracy                           0.92      1288\n",
            "   macro avg       0.93      0.89      0.91      1288\n",
            "weighted avg       0.92      0.92      0.92      1288\n",
            "\n"
          ],
          "name": "stdout"
        }
      ]
    },
    {
      "cell_type": "code",
      "metadata": {
        "colab": {
          "base_uri": "https://localhost:8080/",
          "height": 283
        },
        "id": "WDtgx0-xSErd",
        "outputId": "a4045730-513f-45fa-f943-64ec05443b36"
      },
      "source": [
        "sns.heatmap(conf, annot=True, fmt=\"d\")"
      ],
      "execution_count": null,
      "outputs": [
        {
          "output_type": "execute_result",
          "data": {
            "text/plain": [
              "<matplotlib.axes._subplots.AxesSubplot at 0x7ff2e2da2e10>"
            ]
          },
          "metadata": {
            "tags": []
          },
          "execution_count": 104
        },
        {
          "output_type": "display_data",
          "data": {
            "image/png": "[encoded data removed]",
            "text/plain": [
              "<Figure size 432x288 with 2 Axes>"
            ]
          },
          "metadata": {
            "tags": []
          }
        }
      ]
    },
    {
      "cell_type": "code",
      "metadata": {
        "id": "ZHC-c2AUOctB"
      },
      "source": [
        ""
      ],
      "execution_count": null,
      "outputs": []
    },
    {
      "cell_type": "markdown",
      "metadata": {
        "id": "JH4-8zWV_CpC"
      },
      "source": [
        "# **Xception Model:**"
      ]
    },
    {
      "cell_type": "code",
      "metadata": {
        "colab": {
          "base_uri": "https://localhost:8080/"
        },
        "id": "eyQcQPTBRHoc",
        "outputId": "027784ac-c5f8-49a5-a05f-ed31ff06a4c0"
      },
      "source": [
        "# Xception\n",
        "img_width, img_height = 256, 256\n",
        "\n",
        "train_data_dir = \"/content/drive/MyDrive/Colab Notebooks/ML_Assignment_3GroupsLungXraysData/train\"\n",
        "validation_data_dir = \"/content/drive/MyDrive/Colab Notebooks/ML_Assignment_3GroupsLungXraysData/test\"\n",
        "nb_train_samples = 5147 \n",
        "nb_validation_samples = 1291\n",
        "epochs = 15\n",
        "batch_size = 64\n",
        "\n",
        "input_shape = (img_width, img_height, 3) \n",
        "\n",
        "xception=Xception(include_top=False,weights='imagenet',input_shape=input_shape)\n",
        "\n",
        "for layer in xception.layers:\n",
        "   layer.trainable = False\n",
        "\n",
        "x=GlobalAveragePooling2D()(xception.output)\n",
        "x=Dense(512, activation='relu')(x)\n",
        "prediction=Dense(3,activation='softmax')(x)\n",
        "model=Model(inputs=xception.input,outputs=prediction)\n",
        "\n",
        "model.compile(optimizer='adam', loss='categorical_crossentropy', metrics=['accuracy'])\n",
        "\n",
        "train_datagen = ImageDataGenerator( \n",
        "    rescale=1. / 255, \n",
        "    rotation_range=20,\n",
        "    shear_range=0.2, \n",
        "    zoom_range=0.2, \n",
        "    horizontal_flip=True) \n",
        "  \n",
        "test_datagen = ImageDataGenerator(rescale=1. / 255) \n",
        "  \n",
        "train_generator = train_datagen.flow_from_directory( \n",
        "    train_data_dir, \n",
        "    target_size=(img_width, img_height), \n",
        "    batch_size=batch_size, \n",
        "    class_mode='categorical') \n",
        "  \n",
        "validation_generator = test_datagen.flow_from_directory( \n",
        "    validation_data_dir, \n",
        "    target_size=(img_width, img_height), \n",
        "    batch_size=batch_size, \n",
        "    class_mode='categorical',\n",
        "    shuffle=False) \n",
        "\n",
        "now = datetime.datetime.now()\n",
        "print (\"Current date and time : \")\n",
        "print (now.strftime(\"%Y-%m-%d %H:%M:%S\"))\n",
        "\n",
        "es = EarlyStopping(monitor='val_loss', mode='min', verbose=1, patience=3)\n",
        "\n",
        "h = model.fit( \n",
        "    train_generator, \n",
        "    steps_per_epoch=nb_train_samples // batch_size, \n",
        "    epochs=epochs, \n",
        "    validation_data=validation_generator, \n",
        "    validation_steps=nb_validation_samples // batch_size,\n",
        "    callbacks=[es])"
      ],
      "execution_count": null,
      "outputs": [
        {
          "output_type": "stream",
          "text": [
            "Found 5144 images belonging to 3 classes.\n",
            "Found 1288 images belonging to 3 classes.\n",
            "Current date and time : \n",
            "2021-04-06 08:24:51\n",
            "Epoch 1/15\n",
            "80/80 [==============================] - 210s 3s/step - loss: 0.3980 - accuracy: 0.8312 - val_loss: 0.1871 - val_accuracy: 0.9336\n",
            "Epoch 2/15\n",
            "80/80 [==============================] - 206s 3s/step - loss: 0.1997 - accuracy: 0.9188 - val_loss: 0.2960 - val_accuracy: 0.8875\n",
            "Epoch 3/15\n",
            "80/80 [==============================] - 205s 3s/step - loss: 0.1619 - accuracy: 0.9382 - val_loss: 0.2207 - val_accuracy: 0.9203\n",
            "Epoch 4/15\n",
            "80/80 [==============================] - 206s 3s/step - loss: 0.1800 - accuracy: 0.9316 - val_loss: 0.2603 - val_accuracy: 0.9039\n",
            "Epoch 00004: early stopping\n"
          ],
          "name": "stdout"
        }
      ]
    },
    {
      "cell_type": "code",
      "metadata": {
        "colab": {
          "base_uri": "https://localhost:8080/",
          "height": 626
        },
        "id": "AiG3Ork-Raro",
        "outputId": "04f692d2-ed9c-4d53-e745-259e0111c265"
      },
      "source": [
        "# plot the training loss and accuracy\n",
        "N = 4\n",
        "plt.style.use(\"ggplot\")\n",
        "plt.figure(figsize=(10,10))\n",
        "plt.plot(np.arange(0, N), h.history[\"loss\"], label=\"train_loss\")\n",
        "plt.plot(np.arange(0, N), h.history[\"val_loss\"], label=\"val_loss\")\n",
        "plt.plot(np.arange(0, N), h.history[\"accuracy\"], label=\"train_acc\")\n",
        "plt.plot(np.arange(0, N), h.history[\"val_accuracy\"], label=\"val_acc\")\n",
        "plt.title(\"Training Loss and Accuracy on Dataset\")\n",
        "plt.xlabel(\"Epoch #\")\n",
        "plt.ylabel(\"Loss/Accuracy\")\n",
        "plt.legend(loc=\"lower left\")\n",
        "#plt.savefig(\"plot.png\")\n",
        "plt.show()"
      ],
      "execution_count": null,
      "outputs": [
        {
          "output_type": "display_data",
          "data": {
            "image/png": "[encoded data removed]",
            "text/plain": [
              "<Figure size 720x720 with 1 Axes>"
            ]
          },
          "metadata": {
            "tags": []
          }
        }
      ]
    },
    {
      "cell_type": "code",
      "metadata": {
        "id": "3EsG8tBsYY4v",
        "colab": {
          "base_uri": "https://localhost:8080/"
        },
        "outputId": "2fd9fbe4-e560-4873-de63-fee7feb3297a"
      },
      "source": [
        "Y_pred = model.predict(validation_generator, 1288 // 64 + 1)\n",
        "y_pred = np.argmax(Y_pred, axis=1)\n",
        "\n",
        "true_classes = validation_generator.classes\n",
        "class_labels = list(validation_generator.class_indices.keys())\n",
        "\n",
        "print('Confusion Matrix')\n",
        "conf = confusion_matrix(validation_generator.classes, y_pred)\n",
        "print(conf)\n",
        "print()\n",
        "print('Classification Report')\n",
        "target_names = ['COVID19', 'NORMAL', 'PNEUMONIA']\n",
        "print(classification_report(true_classes, y_pred, target_names=class_labels))"
      ],
      "execution_count": null,
      "outputs": [
        {
          "output_type": "stream",
          "text": [
            "Confusion Matrix\n",
            "[[101   4  11]\n",
            " [  0 310   7]\n",
            " [  0 101 754]]\n",
            "\n",
            "Classification Report\n",
            "              precision    recall  f1-score   support\n",
            "\n",
            "     COVID19       1.00      0.87      0.93       116\n",
            "      NORMAL       0.75      0.98      0.85       317\n",
            "   PNEUMONIA       0.98      0.88      0.93       855\n",
            "\n",
            "    accuracy                           0.90      1288\n",
            "   macro avg       0.91      0.91      0.90      1288\n",
            "weighted avg       0.92      0.90      0.91      1288\n",
            "\n"
          ],
          "name": "stdout"
        }
      ]
    },
    {
      "cell_type": "code",
      "metadata": {
        "colab": {
          "base_uri": "https://localhost:8080/",
          "height": 282
        },
        "id": "Kn5djLIDXpGg",
        "outputId": "e770ad64-6ebb-474f-adc8-41b3d726d236"
      },
      "source": [
        "sns.heatmap(conf, annot=True, fmt=\"d\")"
      ],
      "execution_count": null,
      "outputs": [
        {
          "output_type": "execute_result",
          "data": {
            "text/plain": [
              "<matplotlib.axes._subplots.AxesSubplot at 0x7ff39e0eb350>"
            ]
          },
          "metadata": {
            "tags": []
          },
          "execution_count": 89
        },
        {
          "output_type": "display_data",
          "data": {
            "image/png": "[encoded data removed]",
            "text/plain": [
              "<Figure size 432x288 with 2 Axes>"
            ]
          },
          "metadata": {
            "tags": []
          }
        }
      ]
    },
    {
      "cell_type": "code",
      "metadata": {
        "id": "hBTWm5BbIiXH"
      },
      "source": [
        ""
      ],
      "execution_count": null,
      "outputs": []
    },
    {
      "cell_type": "markdown",
      "metadata": {
        "id": "JUwX_2DL_PT6"
      },
      "source": [
        "# **InceptionResNetV2 Model:**"
      ]
    },
    {
      "cell_type": "code",
      "metadata": {
        "colab": {
          "base_uri": "https://localhost:8080/"
        },
        "id": "YT9OLdxEYY7I",
        "outputId": "d429d84f-c4cb-4499-a1af-130b2ebd10e6"
      },
      "source": [
        "# InceptionResNetV2\n",
        "img_width, img_height = 256, 256\n",
        "\n",
        "train_data_dir = \"/content/drive/MyDrive/Colab Notebooks/ML_Assignment_3GroupsLungXraysData/train\"\n",
        "validation_data_dir = \"/content/drive/MyDrive/Colab Notebooks/ML_Assignment_3GroupsLungXraysData/test\"\n",
        "nb_train_samples = 5147 \n",
        "nb_validation_samples = 1291\n",
        "epochs = 15\n",
        "batch_size = 64\n",
        "\n",
        "input_shape = (img_width, img_height, 3) \n",
        "\n",
        "inceptionresnet=InceptionResNetV2(include_top=False,weights='imagenet',input_shape=input_shape)\n",
        "\n",
        "for layer in inceptionresnet.layers:\n",
        "   layer.trainable = False\n",
        "\n",
        "x=GlobalAveragePooling2D()(inceptionresnet.output)\n",
        "x=Dense(512, activation='relu')(x)\n",
        "prediction=Dense(3,activation='softmax')(x)\n",
        "model=Model(inputs=inceptionresnet.input,outputs=prediction)\n",
        "\n",
        "model.compile(optimizer='adam', loss='categorical_crossentropy', metrics=['accuracy'])\n",
        "\n",
        "train_datagen = ImageDataGenerator( \n",
        "    rescale=1. / 255, \n",
        "    rotation_range=20,\n",
        "    shear_range=0.2, \n",
        "    zoom_range=0.2, \n",
        "    horizontal_flip=True) \n",
        "  \n",
        "test_datagen = ImageDataGenerator(rescale=1. / 255) \n",
        "  \n",
        "train_generator = train_datagen.flow_from_directory( \n",
        "    train_data_dir, \n",
        "    target_size=(img_width, img_height), \n",
        "    batch_size=batch_size, \n",
        "    class_mode='categorical') \n",
        "  \n",
        "validation_generator = test_datagen.flow_from_directory( \n",
        "    validation_data_dir, \n",
        "    target_size=(img_width, img_height), \n",
        "    batch_size=batch_size, \n",
        "    class_mode='categorical',\n",
        "    shuffle=False) \n",
        "\n",
        "now = datetime.datetime.now()\n",
        "print (\"Current date and time : \")\n",
        "print (now.strftime(\"%Y-%m-%d %H:%M:%S\"))\n",
        "\n",
        "es = EarlyStopping(monitor='val_loss', mode='min', verbose=1, patience=3)\n",
        "\n",
        "h = model.fit( \n",
        "    train_generator, \n",
        "    steps_per_epoch=nb_train_samples // batch_size, \n",
        "    epochs=epochs, \n",
        "    validation_data=validation_generator, \n",
        "    validation_steps=nb_validation_samples // batch_size,\n",
        "    callbacks=[es])"
      ],
      "execution_count": null,
      "outputs": [
        {
          "output_type": "stream",
          "text": [
            "Found 5144 images belonging to 3 classes.\n",
            "Found 1288 images belonging to 3 classes.\n",
            "Current date and time : \n",
            "2021-04-06 08:43:59\n",
            "Epoch 1/15\n",
            "80/80 [==============================] - 224s 3s/step - loss: 0.8394 - accuracy: 0.7318 - val_loss: 0.2290 - val_accuracy: 0.9094\n",
            "Epoch 2/15\n",
            "80/80 [==============================] - 207s 3s/step - loss: 0.2623 - accuracy: 0.8987 - val_loss: 0.3223 - val_accuracy: 0.8750\n",
            "Epoch 3/15\n",
            "80/80 [==============================] - 207s 3s/step - loss: 0.2263 - accuracy: 0.9144 - val_loss: 0.2111 - val_accuracy: 0.9164\n",
            "Epoch 4/15\n",
            "80/80 [==============================] - 206s 3s/step - loss: 0.2067 - accuracy: 0.9266 - val_loss: 0.2327 - val_accuracy: 0.9078\n",
            "Epoch 5/15\n",
            "80/80 [==============================] - 207s 3s/step - loss: 0.1954 - accuracy: 0.9242 - val_loss: 0.1757 - val_accuracy: 0.9305\n",
            "Epoch 6/15\n",
            "80/80 [==============================] - 208s 3s/step - loss: 0.2186 - accuracy: 0.9200 - val_loss: 0.1779 - val_accuracy: 0.9312\n",
            "Epoch 7/15\n",
            "80/80 [==============================] - 210s 3s/step - loss: 0.1765 - accuracy: 0.9339 - val_loss: 0.2361 - val_accuracy: 0.9094\n",
            "Epoch 8/15\n",
            "80/80 [==============================] - 209s 3s/step - loss: 0.1626 - accuracy: 0.9440 - val_loss: 0.1793 - val_accuracy: 0.9367\n",
            "Epoch 00008: early stopping\n"
          ],
          "name": "stdout"
        }
      ]
    },
    {
      "cell_type": "code",
      "metadata": {
        "colab": {
          "base_uri": "https://localhost:8080/",
          "height": 626
        },
        "id": "8BWcav0GYsFC",
        "outputId": "88e3767d-322e-4e2f-9f11-fee3a4280ac2"
      },
      "source": [
        "# plot the training loss and accuracy\n",
        "N = 8\n",
        "plt.style.use(\"ggplot\")\n",
        "plt.figure(figsize=(10,10))\n",
        "plt.plot(np.arange(0, N), h.history[\"loss\"], label=\"train_loss\")\n",
        "plt.plot(np.arange(0, N), h.history[\"val_loss\"], label=\"val_loss\")\n",
        "plt.plot(np.arange(0, N), h.history[\"accuracy\"], label=\"train_acc\")\n",
        "plt.plot(np.arange(0, N), h.history[\"val_accuracy\"], label=\"val_acc\")\n",
        "plt.title(\"Training Loss and Accuracy on Dataset\")\n",
        "plt.xlabel(\"Epoch #\")\n",
        "plt.ylabel(\"Loss/Accuracy\")\n",
        "plt.legend(loc=\"lower left\")\n",
        "#plt.savefig(\"plot.png\")\n",
        "plt.show()"
      ],
      "execution_count": null,
      "outputs": [
        {
          "output_type": "display_data",
          "data": {
            "image/png": "[encoded data removed]",
            "text/plain": [
              "<Figure size 720x720 with 1 Axes>"
            ]
          },
          "metadata": {
            "tags": []
          }
        }
      ]
    },
    {
      "cell_type": "code",
      "metadata": {
        "colab": {
          "base_uri": "https://localhost:8080/"
        },
        "id": "Dxf6yn8vZzow",
        "outputId": "e491572b-5b0b-451b-91c2-843bd86e3280"
      },
      "source": [
        "Y_pred = model.predict(validation_generator, 1288 // 64 + 1)\n",
        "y_pred = np.argmax(Y_pred, axis=1)\n",
        "\n",
        "true_classes = validation_generator.classes\n",
        "class_labels = list(validation_generator.class_indices.keys())\n",
        "\n",
        "print('Confusion Matrix')\n",
        "conf = confusion_matrix(validation_generator.classes, y_pred)\n",
        "print(conf)\n",
        "print()\n",
        "print('Classification Report')\n",
        "target_names = ['COVID19', 'NORMAL', 'PNEUMONIA']\n",
        "print(classification_report(true_classes, y_pred, target_names=class_labels))"
      ],
      "execution_count": null,
      "outputs": [
        {
          "output_type": "stream",
          "text": [
            "Confusion Matrix\n",
            "[[111   1   4]\n",
            " [  0 299  18]\n",
            " [  2  58 795]]\n",
            "\n",
            "Classification Report\n",
            "              precision    recall  f1-score   support\n",
            "\n",
            "     COVID19       0.98      0.96      0.97       116\n",
            "      NORMAL       0.84      0.94      0.89       317\n",
            "   PNEUMONIA       0.97      0.93      0.95       855\n",
            "\n",
            "    accuracy                           0.94      1288\n",
            "   macro avg       0.93      0.94      0.94      1288\n",
            "weighted avg       0.94      0.94      0.94      1288\n",
            "\n"
          ],
          "name": "stdout"
        }
      ]
    },
    {
      "cell_type": "code",
      "metadata": {
        "colab": {
          "base_uri": "https://localhost:8080/",
          "height": 282
        },
        "id": "9FawN4CPZ0Ik",
        "outputId": "bc4dad4e-5232-442a-fde5-a4718ec94e5f"
      },
      "source": [
        "sns.heatmap(conf, annot=True, fmt=\"d\")"
      ],
      "execution_count": null,
      "outputs": [
        {
          "output_type": "execute_result",
          "data": {
            "text/plain": [
              "<matplotlib.axes._subplots.AxesSubplot at 0x7ff38a9b8ed0>"
            ]
          },
          "metadata": {
            "tags": []
          },
          "execution_count": 93
        },
        {
          "output_type": "display_data",
          "data": {
            "image/png": "[encoded data removed]",
            "text/plain": [
              "<Figure size 432x288 with 2 Axes>"
            ]
          },
          "metadata": {
            "tags": []
          }
        }
      ]
    },
    {
      "cell_type": "code",
      "metadata": {
        "id": "8eAb81trfauN"
      },
      "source": [
        ""
      ],
      "execution_count": null,
      "outputs": []
    },
    {
      "cell_type": "markdown",
      "metadata": {
        "id": "hBxMOf-G_UsT"
      },
      "source": [
        "# **ResNet152V2 Model:**"
      ]
    },
    {
      "cell_type": "code",
      "metadata": {
        "colab": {
          "base_uri": "https://localhost:8080/"
        },
        "id": "sQLx1fU_fdoS",
        "outputId": "cb81c88a-cf59-49a5-fdff-0b401687d1db"
      },
      "source": [
        "# ResNet152V2\n",
        "img_width, img_height = 256, 256\n",
        "\n",
        "train_data_dir = \"/content/drive/MyDrive/Colab Notebooks/ML_Assignment_3GroupsLungXraysData/train\"\n",
        "validation_data_dir = \"/content/drive/MyDrive/Colab Notebooks/ML_Assignment_3GroupsLungXraysData/test\"\n",
        "nb_train_samples = 5147 \n",
        "nb_validation_samples = 1291\n",
        "epochs = 15\n",
        "batch_size = 64\n",
        "\n",
        "input_shape = (img_width, img_height, 3) \n",
        "\n",
        "ResNet=ResNet152V2(include_top=False,weights='imagenet',input_shape=input_shape)\n",
        "\n",
        "for layer in ResNet.layers:\n",
        "   layer.trainable = False\n",
        "\n",
        "x=GlobalAveragePooling2D()(ResNet.output)\n",
        "x=Dense(512, activation='relu')(x)\n",
        "prediction=Dense(3,activation='softmax')(x)\n",
        "model=Model(inputs=ResNet.input,outputs=prediction)\n",
        "\n",
        "model.compile(optimizer='adam', loss='categorical_crossentropy', metrics=['accuracy'])\n",
        "\n",
        "train_datagen = ImageDataGenerator( \n",
        "    rescale=1. / 255, \n",
        "    rotation_range=20,\n",
        "    shear_range=0.2, \n",
        "    zoom_range=0.2, \n",
        "    horizontal_flip=True) \n",
        "  \n",
        "test_datagen = ImageDataGenerator(rescale=1. / 255) \n",
        "  \n",
        "train_generator = train_datagen.flow_from_directory( \n",
        "    train_data_dir, \n",
        "    target_size=(img_width, img_height), \n",
        "    batch_size=batch_size, \n",
        "    class_mode='categorical') \n",
        "  \n",
        "validation_generator = test_datagen.flow_from_directory( \n",
        "    validation_data_dir, \n",
        "    target_size=(img_width, img_height), \n",
        "    batch_size=batch_size, \n",
        "    class_mode='categorical',\n",
        "    shuffle=False) \n",
        "\n",
        "now = datetime.datetime.now()\n",
        "print (\"Current date and time : \")\n",
        "print (now.strftime(\"%Y-%m-%d %H:%M:%S\"))\n",
        "\n",
        "es = EarlyStopping(monitor='val_loss', mode='min', verbose=1, patience=3)\n",
        "\n",
        "h = model.fit( \n",
        "    train_generator, \n",
        "    steps_per_epoch=nb_train_samples // batch_size, \n",
        "    epochs=epochs, \n",
        "    validation_data=validation_generator, \n",
        "    validation_steps=nb_validation_samples // batch_size,\n",
        "    callbacks=[es])"
      ],
      "execution_count": null,
      "outputs": [
        {
          "output_type": "stream",
          "text": [
            "Found 5144 images belonging to 3 classes.\n",
            "Found 1288 images belonging to 3 classes.\n",
            "Current date and time : \n",
            "2021-04-06 09:15:45\n",
            "Epoch 1/15\n",
            "80/80 [==============================] - 225s 3s/step - loss: 0.7940 - accuracy: 0.7835 - val_loss: 0.2108 - val_accuracy: 0.9250\n",
            "Epoch 2/15\n",
            "80/80 [==============================] - 212s 3s/step - loss: 0.1757 - accuracy: 0.9407 - val_loss: 0.1956 - val_accuracy: 0.9266\n",
            "Epoch 3/15\n",
            "80/80 [==============================] - 212s 3s/step - loss: 0.1718 - accuracy: 0.9380 - val_loss: 0.1895 - val_accuracy: 0.9297\n",
            "Epoch 4/15\n",
            "80/80 [==============================] - 212s 3s/step - loss: 0.1430 - accuracy: 0.9481 - val_loss: 0.1736 - val_accuracy: 0.9398\n",
            "Epoch 5/15\n",
            "80/80 [==============================] - 212s 3s/step - loss: 0.1306 - accuracy: 0.9563 - val_loss: 0.1624 - val_accuracy: 0.9469\n",
            "Epoch 6/15\n",
            "80/80 [==============================] - 212s 3s/step - loss: 0.1349 - accuracy: 0.9526 - val_loss: 0.1865 - val_accuracy: 0.9312\n",
            "Epoch 7/15\n",
            "80/80 [==============================] - 212s 3s/step - loss: 0.1184 - accuracy: 0.9587 - val_loss: 0.1700 - val_accuracy: 0.9406\n",
            "Epoch 8/15\n",
            "80/80 [==============================] - 210s 3s/step - loss: 0.1308 - accuracy: 0.9487 - val_loss: 0.2129 - val_accuracy: 0.9273\n",
            "Epoch 00008: early stopping\n"
          ],
          "name": "stdout"
        }
      ]
    },
    {
      "cell_type": "code",
      "metadata": {
        "colab": {
          "base_uri": "https://localhost:8080/",
          "height": 626
        },
        "id": "_Z-w7osqfxXJ",
        "outputId": "c01bdc08-c9b1-4187-c1ca-d40eff2357c3"
      },
      "source": [
        "# plot the training loss and accuracy\n",
        "N = 8\n",
        "plt.style.use(\"ggplot\")\n",
        "plt.figure(figsize=(10,10))\n",
        "plt.plot(np.arange(0, N), h.history[\"loss\"], label=\"train_loss\")\n",
        "plt.plot(np.arange(0, N), h.history[\"val_loss\"], label=\"val_loss\")\n",
        "plt.plot(np.arange(0, N), h.history[\"accuracy\"], label=\"train_acc\")\n",
        "plt.plot(np.arange(0, N), h.history[\"val_accuracy\"], label=\"val_acc\")\n",
        "plt.title(\"Training Loss and Accuracy on Dataset\")\n",
        "plt.xlabel(\"Epoch #\")\n",
        "plt.ylabel(\"Loss/Accuracy\")\n",
        "plt.legend(loc=\"lower left\")\n",
        "#plt.savefig(\"plot.png\")\n",
        "plt.show()"
      ],
      "execution_count": null,
      "outputs": [
        {
          "output_type": "display_data",
          "data": {
            "image/png": "[encoded data removed]",
            "text/plain": [
              "<Figure size 720x720 with 1 Axes>"
            ]
          },
          "metadata": {
            "tags": []
          }
        }
      ]
    },
    {
      "cell_type": "code",
      "metadata": {
        "colab": {
          "base_uri": "https://localhost:8080/"
        },
        "id": "BW51QqjotE_C",
        "outputId": "ca764218-5eab-4dd9-b06b-899d7329eaf7"
      },
      "source": [
        "Y_pred = model.predict(validation_generator, 1288 // 64 + 1)\n",
        "y_pred = np.argmax(Y_pred, axis=1)\n",
        "\n",
        "true_classes = validation_generator.classes\n",
        "class_labels = list(validation_generator.class_indices.keys())\n",
        "\n",
        "print('Confusion Matrix')\n",
        "conf = confusion_matrix(validation_generator.classes, y_pred)\n",
        "print(conf)\n",
        "print()\n",
        "print('Classification Report')\n",
        "target_names = ['COVID19', 'NORMAL', 'PNEUMONIA']\n",
        "print(classification_report(true_classes, y_pred, target_names=class_labels))"
      ],
      "execution_count": null,
      "outputs": [
        {
          "output_type": "stream",
          "text": [
            "Confusion Matrix\n",
            "[[104   7   5]\n",
            " [  0 305  12]\n",
            " [  1  69 785]]\n",
            "\n",
            "Classification Report\n",
            "              precision    recall  f1-score   support\n",
            "\n",
            "     COVID19       0.99      0.90      0.94       116\n",
            "      NORMAL       0.80      0.96      0.87       317\n",
            "   PNEUMONIA       0.98      0.92      0.95       855\n",
            "\n",
            "    accuracy                           0.93      1288\n",
            "   macro avg       0.92      0.93      0.92      1288\n",
            "weighted avg       0.94      0.93      0.93      1288\n",
            "\n"
          ],
          "name": "stdout"
        }
      ]
    },
    {
      "cell_type": "code",
      "metadata": {
        "colab": {
          "base_uri": "https://localhost:8080/",
          "height": 282
        },
        "id": "tqepcuWmtFBJ",
        "outputId": "012f7f00-931e-485c-dbb0-a8889d47b796"
      },
      "source": [
        "sns.heatmap(conf, annot=True, fmt=\"d\")"
      ],
      "execution_count": null,
      "outputs": [
        {
          "output_type": "execute_result",
          "data": {
            "text/plain": [
              "<matplotlib.axes._subplots.AxesSubplot at 0x7ff2ed56f490>"
            ]
          },
          "metadata": {
            "tags": []
          },
          "execution_count": 97
        },
        {
          "output_type": "display_data",
          "data": {
            "image/png": "[encoded data removed]",
            "text/plain": [
              "<Figure size 432x288 with 2 Axes>"
            ]
          },
          "metadata": {
            "tags": []
          }
        }
      ]
    },
    {
      "cell_type": "code",
      "metadata": {
        "id": "FOXKUlCVizmS"
      },
      "source": [
        ""
      ],
      "execution_count": null,
      "outputs": []
    },
    {
      "cell_type": "code",
      "metadata": {
        "id": "6Qp621rCtpMK"
      },
      "source": [
        ""
      ],
      "execution_count": null,
      "outputs": []
    },
    {
      "cell_type": "code",
      "metadata": {
        "id": "juUM3pyntpPF"
      },
      "source": [
        ""
      ],
      "execution_count": null,
      "outputs": []
    },
    {
      "cell_type": "markdown",
      "metadata": {
        "id": "9DzzAevstqgt"
      },
      "source": [
        "# **Xception Model with Weighted Class:**"
      ]
    },
    {
      "cell_type": "code",
      "metadata": {
        "colab": {
          "base_uri": "https://localhost:8080/"
        },
        "id": "MFFQvCM3tpSP",
        "outputId": "676f1a6c-e3a7-4348-8d25-f22fac3c1b3c"
      },
      "source": [
        "# Xception\n",
        "img_width, img_height = 256, 256\n",
        "\n",
        "train_data_dir = \"/content/drive/MyDrive/Colab Notebooks/ML_Assignment_3GroupsLungXraysData/train\"\n",
        "validation_data_dir = \"/content/drive/MyDrive/Colab Notebooks/ML_Assignment_3GroupsLungXraysData/test\"\n",
        "nb_train_samples = 5147 \n",
        "nb_validation_samples = 1291\n",
        "epochs = 20\n",
        "batch_size = 64\n",
        "\n",
        "input_shape = (img_width, img_height, 3) \n",
        "\n",
        "xception=Xception(include_top=False,weights='imagenet',input_shape=input_shape)\n",
        "\n",
        "for layer in xception.layers:\n",
        "   layer.trainable = False\n",
        "\n",
        "x=GlobalAveragePooling2D()(xception.output)\n",
        "x=Dense(512, activation='relu')(x)\n",
        "prediction=Dense(3,activation='softmax')(x)\n",
        "model=Model(inputs=xception.input,outputs=prediction)\n",
        "\n",
        "model.compile(optimizer='adam', loss='categorical_crossentropy', metrics=['accuracy'])\n",
        "\n",
        "train_datagen = ImageDataGenerator( \n",
        "    rescale=1. / 255, \n",
        "    rotation_range=20,\n",
        "    shear_range=0.2, \n",
        "    zoom_range=0.2, \n",
        "    horizontal_flip=True) \n",
        "  \n",
        "test_datagen = ImageDataGenerator(rescale=1. / 255) \n",
        "  \n",
        "train_generator = train_datagen.flow_from_directory( \n",
        "    train_data_dir, \n",
        "    target_size=(img_width, img_height), \n",
        "    batch_size=batch_size, \n",
        "    class_mode='categorical') \n",
        "  \n",
        "validation_generator = test_datagen.flow_from_directory( \n",
        "    validation_data_dir, \n",
        "    target_size=(img_width, img_height), \n",
        "    batch_size=batch_size, \n",
        "    class_mode='categorical',\n",
        "    shuffle = False) \n",
        "\n",
        "now = datetime.datetime.now()\n",
        "print (\"Current date and time : \")\n",
        "print (now.strftime(\"%Y-%m-%d %H:%M:%S\"))\n",
        "\n",
        "es = EarlyStopping(monitor='val_loss', mode='min', verbose=1, patience=3)\n",
        "\n",
        "class_weights = {0: 7.,\n",
        "                1: 3.,\n",
        "                2: 1.}\n",
        "\n",
        "h = model.fit( \n",
        "    train_generator, \n",
        "    steps_per_epoch=nb_train_samples // batch_size, \n",
        "    epochs=epochs, \n",
        "    validation_data=validation_generator, \n",
        "    validation_steps=nb_validation_samples // batch_size,\n",
        "    callbacks=[es],\n",
        "    class_weight=class_weights)\n",
        "\n",
        "model.save_weights('xmodel.h5')"
      ],
      "execution_count": null,
      "outputs": [
        {
          "output_type": "stream",
          "text": [
            "Found 5144 images belonging to 3 classes.\n",
            "Found 1288 images belonging to 3 classes.\n",
            "Current date and time : \n",
            "2021-04-07 06:42:25\n",
            "Epoch 1/20\n",
            "80/80 [==============================] - 215s 3s/step - loss: 0.8353 - accuracy: 0.7775 - val_loss: 0.5874 - val_accuracy: 0.7703\n",
            "Epoch 2/20\n",
            "80/80 [==============================] - 209s 3s/step - loss: 0.4715 - accuracy: 0.8808 - val_loss: 0.6923 - val_accuracy: 0.7445\n",
            "Epoch 3/20\n",
            "80/80 [==============================] - 207s 3s/step - loss: 0.3744 - accuracy: 0.9069 - val_loss: 0.2844 - val_accuracy: 0.8922\n",
            "Epoch 4/20\n",
            "80/80 [==============================] - 207s 3s/step - loss: 0.3849 - accuracy: 0.9106 - val_loss: 0.3528 - val_accuracy: 0.8672\n",
            "Epoch 5/20\n",
            "80/80 [==============================] - 208s 3s/step - loss: 0.3625 - accuracy: 0.9114 - val_loss: 0.5866 - val_accuracy: 0.7906\n",
            "Epoch 6/20\n",
            "80/80 [==============================] - 208s 3s/step - loss: 0.3184 - accuracy: 0.9143 - val_loss: 0.4776 - val_accuracy: 0.8258\n",
            "Epoch 00006: early stopping\n"
          ],
          "name": "stdout"
        }
      ]
    },
    {
      "cell_type": "code",
      "metadata": {
        "colab": {
          "base_uri": "https://localhost:8080/"
        },
        "id": "W6rP2fpHuaTM",
        "outputId": "7f284a9a-1c01-45d9-f14b-0c9382015419"
      },
      "source": [
        "#model.load_weights('xmodel.h5')\n",
        "\n",
        "Y_pred = model.predict(validation_generator, 1288 // 64 + 1)\n",
        "y_pred = np.argmax(Y_pred, axis=1)\n",
        "\n",
        "true_classes = validation_generator.classes\n",
        "class_labels = list(validation_generator.class_indices.keys())\n",
        "\n",
        "print('Confusion Matrix')\n",
        "conf = confusion_matrix(validation_generator.classes, y_pred)\n",
        "print(conf)\n",
        "print()\n",
        "print('Classification Report')\n",
        "target_names = ['COVID19', 'NORMAL', 'PNEUMONIA']\n",
        "print(classification_report(true_classes, y_pred, target_names=class_labels))"
      ],
      "execution_count": null,
      "outputs": [
        {
          "output_type": "stream",
          "text": [
            "Confusion Matrix\n",
            "[[ 99  11   6]\n",
            " [  0 315   2]\n",
            " [  0 205 650]]\n",
            "\n",
            "Classification Report\n",
            "              precision    recall  f1-score   support\n",
            "\n",
            "     COVID19       1.00      0.85      0.92       116\n",
            "      NORMAL       0.59      0.99      0.74       317\n",
            "   PNEUMONIA       0.99      0.76      0.86       855\n",
            "\n",
            "    accuracy                           0.83      1288\n",
            "   macro avg       0.86      0.87      0.84      1288\n",
            "weighted avg       0.89      0.83      0.84      1288\n",
            "\n"
          ],
          "name": "stdout"
        }
      ]
    },
    {
      "cell_type": "code",
      "metadata": {
        "colab": {
          "base_uri": "https://localhost:8080/",
          "height": 282
        },
        "id": "zyMIfjJrx6_R",
        "outputId": "ea66e14a-7909-4688-ffef-f88bcf5d5924"
      },
      "source": [
        "sns.heatmap(conf, annot=True, fmt=\"d\")"
      ],
      "execution_count": null,
      "outputs": [
        {
          "output_type": "execute_result",
          "data": {
            "text/plain": [
              "<matplotlib.axes._subplots.AxesSubplot at 0x7fa2d7ec41d0>"
            ]
          },
          "metadata": {
            "tags": []
          },
          "execution_count": 15
        },
        {
          "output_type": "display_data",
          "data": {
            "image/png": "[encoded data removed]",
            "text/plain": [
              "<Figure size 432x288 with 2 Axes>"
            ]
          },
          "metadata": {
            "tags": [],
            "needs_background": "light"
          }
        }
      ]
    },
    {
      "cell_type": "code",
      "metadata": {
        "id": "1eQEdawWdVmE"
      },
      "source": [
        ""
      ],
      "execution_count": null,
      "outputs": []
    },
    {
      "cell_type": "code",
      "metadata": {
        "id": "Dltsn04glk7z"
      },
      "source": [
        ""
      ],
      "execution_count": null,
      "outputs": []
    },
    {
      "cell_type": "code",
      "metadata": {
        "id": "9W2Aunsy4CeK"
      },
      "source": [
        ""
      ],
      "execution_count": null,
      "outputs": []
    },
    {
      "cell_type": "markdown",
      "metadata": {
        "id": "IDHenbb45RYu"
      },
      "source": [
        "# **NASNetLarge Model with Weighted Class:**"
      ]
    },
    {
      "cell_type": "code",
      "metadata": {
        "colab": {
          "base_uri": "https://localhost:8080/"
        },
        "id": "MvxfnkgC5VMF",
        "outputId": "3abff023-afa6-4020-f9fd-d28fab8d9832"
      },
      "source": [
        "# NASNetLarge\n",
        "\n",
        "img_width, img_height = 331, 331\n",
        "\n",
        "train_data_dir = \"/content/drive/MyDrive/Colab Notebooks/ML_Assignment_3GroupsLungXraysData/train\"\n",
        "validation_data_dir = \"/content/drive/MyDrive/Colab Notebooks/ML_Assignment_3GroupsLungXraysData/test\"\n",
        "nb_train_samples = 5147 \n",
        "nb_validation_samples = 1291\n",
        "epochs = 15\n",
        "batch_size = 64\n",
        "\n",
        "input_shape = (img_width, img_height, 3) \n",
        "\n",
        "nasnet=NASNetLarge(include_top=False ,weights='imagenet', input_shape=input_shape)\n",
        "\n",
        "for layer in nasnet.layers:\n",
        "   layer.trainable = False\n",
        "\n",
        "x=GlobalAveragePooling2D()(nasnet.output)\n",
        "x=Dense(512, activation='relu')(x)\n",
        "prediction=Dense(3,activation='softmax')(x)\n",
        "model=Model(inputs=nasnet.input,outputs=prediction)\n",
        "\n",
        "model.compile(optimizer='adam', loss='categorical_crossentropy', metrics=['accuracy'])\n",
        "\n",
        "train_datagen = ImageDataGenerator( \n",
        "    rescale=1. / 255, \n",
        "    rotation_range=20,\n",
        "    shear_range=0.2, \n",
        "    zoom_range=0.2, \n",
        "    horizontal_flip=True) \n",
        "  \n",
        "test_datagen = ImageDataGenerator(rescale=1. / 255) \n",
        "  \n",
        "train_generator = train_datagen.flow_from_directory( \n",
        "    train_data_dir, \n",
        "    target_size=(img_width, img_height), \n",
        "    batch_size=batch_size, \n",
        "    class_mode='categorical') \n",
        "  \n",
        "validation_generator = test_datagen.flow_from_directory( \n",
        "    validation_data_dir, \n",
        "    target_size=(img_width, img_height), \n",
        "    batch_size=batch_size, \n",
        "    class_mode='categorical',\n",
        "    shuffle=False) \n",
        "\n",
        "now = datetime.datetime.now()\n",
        "print (\"Current date and time : \")\n",
        "print (now.strftime(\"%Y-%m-%d %H:%M:%S\"))\n",
        "\n",
        "es = EarlyStopping(monitor='val_loss', mode='min', verbose=1, patience=3)\n",
        "\n",
        "class_weights = {0: 7.,\n",
        "                1: 3.,\n",
        "                2: 1.}\n",
        "\n",
        "h = model.fit( \n",
        "    train_generator, \n",
        "    steps_per_epoch=nb_train_samples // batch_size, \n",
        "    epochs=epochs, \n",
        "    validation_data=validation_generator, \n",
        "    validation_steps=nb_validation_samples // batch_size,\n",
        "    callbacks=[es],\n",
        "    class_weight=class_weights)"
      ],
      "execution_count": null,
      "outputs": [
        {
          "output_type": "stream",
          "text": [
            "Downloading data from https://storage.googleapis.com/tensorflow/keras-applications/nasnet/NASNet-large-no-top.h5\n",
            "343613440/343610240 [==============================] - 5s 0us/step\n",
            "Found 5144 images belonging to 3 classes.\n",
            "Found 1288 images belonging to 3 classes.\n",
            "Current date and time : \n",
            "2021-04-12 02:27:02\n",
            "Epoch 1/15\n",
            "80/80 [==============================] - 2358s 29s/step - loss: 1.2616 - accuracy: 0.7592 - val_loss: 0.3610 - val_accuracy: 0.8555\n",
            "Epoch 2/15\n",
            "80/80 [==============================] - 319s 4s/step - loss: 0.4312 - accuracy: 0.9025 - val_loss: 0.3368 - val_accuracy: 0.8703\n",
            "Epoch 3/15\n",
            "80/80 [==============================] - 315s 4s/step - loss: 0.3341 - accuracy: 0.9200 - val_loss: 0.5084 - val_accuracy: 0.8148\n",
            "Epoch 4/15\n",
            "80/80 [==============================] - 314s 4s/step - loss: 0.3783 - accuracy: 0.9094 - val_loss: 0.4069 - val_accuracy: 0.8539\n",
            "Epoch 5/15\n",
            "80/80 [==============================] - 313s 4s/step - loss: 0.3112 - accuracy: 0.9248 - val_loss: 0.2577 - val_accuracy: 0.9094\n",
            "Epoch 6/15\n",
            "80/80 [==============================] - 313s 4s/step - loss: 0.2894 - accuracy: 0.9313 - val_loss: 0.2134 - val_accuracy: 0.9242\n",
            "Epoch 7/15\n",
            "80/80 [==============================] - 316s 4s/step - loss: 0.3187 - accuracy: 0.9292 - val_loss: 0.2862 - val_accuracy: 0.9062\n",
            "Epoch 8/15\n",
            "80/80 [==============================] - 313s 4s/step - loss: 0.2918 - accuracy: 0.9284 - val_loss: 0.2535 - val_accuracy: 0.9086\n",
            "Epoch 9/15\n",
            "80/80 [==============================] - 312s 4s/step - loss: 0.2367 - accuracy: 0.9432 - val_loss: 0.3045 - val_accuracy: 0.8883\n",
            "Epoch 00009: early stopping\n"
          ],
          "name": "stdout"
        }
      ]
    },
    {
      "cell_type": "code",
      "metadata": {
        "colab": {
          "base_uri": "https://localhost:8080/"
        },
        "id": "CgRVDP095VG_",
        "outputId": "43b85cb2-07e5-433c-9c0a-67f06511c4c9"
      },
      "source": [
        "#model.load_weights('xmodel.h5')\n",
        "\n",
        "Y_pred = model.predict(validation_generator, 1288 // 64 + 1)\n",
        "y_pred = np.argmax(Y_pred, axis=1)\n",
        "\n",
        "true_classes = validation_generator.classes\n",
        "class_labels = list(validation_generator.class_indices.keys())\n",
        "\n",
        "print('Confusion Matrix')\n",
        "conf = confusion_matrix(validation_generator.classes, y_pred)\n",
        "print(conf)\n",
        "print()\n",
        "print('Classification Report')\n",
        "target_names = ['COVID19', 'NORMAL', 'PNEUMONIA']\n",
        "print(classification_report(true_classes, y_pred, target_names=class_labels))"
      ],
      "execution_count": null,
      "outputs": [
        {
          "output_type": "stream",
          "text": [
            "Confusion Matrix\n",
            "[[111   3   2]\n",
            " [  1 305  11]\n",
            " [  3 125 727]]\n",
            "\n",
            "Classification Report\n",
            "              precision    recall  f1-score   support\n",
            "\n",
            "     COVID19       0.97      0.96      0.96       116\n",
            "      NORMAL       0.70      0.96      0.81       317\n",
            "   PNEUMONIA       0.98      0.85      0.91       855\n",
            "\n",
            "    accuracy                           0.89      1288\n",
            "   macro avg       0.88      0.92      0.90      1288\n",
            "weighted avg       0.91      0.89      0.89      1288\n",
            "\n"
          ],
          "name": "stdout"
        }
      ]
    },
    {
      "cell_type": "code",
      "metadata": {
        "colab": {
          "base_uri": "https://localhost:8080/",
          "height": 282
        },
        "id": "SKpSY08P5VDh",
        "outputId": "7e357c24-716c-4dba-83df-69929d679fd7"
      },
      "source": [
        "sns.heatmap(conf, annot=True, fmt=\"d\")"
      ],
      "execution_count": null,
      "outputs": [
        {
          "output_type": "execute_result",
          "data": {
            "text/plain": [
              "<matplotlib.axes._subplots.AxesSubplot at 0x7fb6c2342c10>"
            ]
          },
          "metadata": {
            "tags": []
          },
          "execution_count": 10
        },
        {
          "output_type": "display_data",
          "data": {
            "image/png": "[encoded data removed]",
            "text/plain": [
              "<Figure size 432x288 with 2 Axes>"
            ]
          },
          "metadata": {
            "tags": [],
            "needs_background": "light"
          }
        }
      ]
    },
    {
      "cell_type": "code",
      "metadata": {
        "id": "Q4PD2bec5U_l"
      },
      "source": [
        ""
      ],
      "execution_count": null,
      "outputs": []
    },
    {
      "cell_type": "markdown",
      "metadata": {
        "id": "IGyvkldCc_Qj"
      },
      "source": [
        "# **InceptionResNetV2 Model with Weighted Class:**"
      ]
    },
    {
      "cell_type": "code",
      "metadata": {
        "colab": {
          "base_uri": "https://localhost:8080/"
        },
        "id": "LqbI2jb-4Cix",
        "outputId": "f2518e34-6387-45ec-ab69-5b25ba412319"
      },
      "source": [
        "# InceptionResNetV2\n",
        "img_width, img_height = 256, 256\n",
        "\n",
        "train_data_dir = \"/content/drive/MyDrive/Colab Notebooks/ML_Assignment_3GroupsLungXraysData/train\"\n",
        "validation_data_dir = \"/content/drive/MyDrive/Colab Notebooks/ML_Assignment_3GroupsLungXraysData/test\"\n",
        "nb_train_samples = 5147 \n",
        "nb_validation_samples = 1291\n",
        "epochs = 15\n",
        "batch_size = 64\n",
        "\n",
        "input_shape = (img_width, img_height, 3) \n",
        "\n",
        "inceptionresnet=InceptionResNetV2(include_top=False,weights='imagenet',input_shape=input_shape)\n",
        "\n",
        "for layer in inceptionresnet.layers:\n",
        "   layer.trainable = False\n",
        "\n",
        "x=GlobalAveragePooling2D()(inceptionresnet.output)\n",
        "x=Dense(512, activation='relu')(x)\n",
        "prediction=Dense(3,activation='softmax')(x)\n",
        "model=Model(inputs=inceptionresnet.input,outputs=prediction)\n",
        "\n",
        "model.compile(optimizer='adam', loss='categorical_crossentropy', metrics=['accuracy'])\n",
        "\n",
        "train_datagen = ImageDataGenerator( \n",
        "    rescale=1. / 255, \n",
        "    rotation_range=20,\n",
        "    shear_range=0.2, \n",
        "    zoom_range=0.2, \n",
        "    horizontal_flip=True) \n",
        "  \n",
        "test_datagen = ImageDataGenerator(rescale=1. / 255) \n",
        "  \n",
        "train_generator = train_datagen.flow_from_directory( \n",
        "    train_data_dir, \n",
        "    target_size=(img_width, img_height), \n",
        "    batch_size=batch_size, \n",
        "    class_mode='categorical') \n",
        "  \n",
        "validation_generator = test_datagen.flow_from_directory( \n",
        "    validation_data_dir, \n",
        "    target_size=(img_width, img_height), \n",
        "    batch_size=batch_size, \n",
        "    class_mode='categorical',\n",
        "    shuffle=False) \n",
        "\n",
        "now = datetime.datetime.now()\n",
        "print (\"Current date and time : \")\n",
        "print (now.strftime(\"%Y-%m-%d %H:%M:%S\"))\n",
        "\n",
        "es = EarlyStopping(monitor='val_loss', mode='min', verbose=1, patience=3)\n",
        "\n",
        "class_weights = {0: 7.,\n",
        "                1: 3.,\n",
        "                2: 1.}\n",
        "\n",
        "h = model.fit( \n",
        "    train_generator, \n",
        "    steps_per_epoch=nb_train_samples // batch_size, \n",
        "    epochs=epochs, \n",
        "    validation_data=validation_generator, \n",
        "    validation_steps=nb_validation_samples // batch_size,\n",
        "    callbacks=[es],\n",
        "    class_weight=class_weights)"
      ],
      "execution_count": null,
      "outputs": [
        {
          "output_type": "stream",
          "text": [
            "Found 5144 images belonging to 3 classes.\n",
            "Found 1288 images belonging to 3 classes.\n",
            "Current date and time : \n",
            "2021-04-08 08:25:09\n",
            "Epoch 1/15\n",
            "80/80 [==============================] - 2005s 25s/step - loss: 1.6459 - accuracy: 0.6844 - val_loss: 0.2725 - val_accuracy: 0.8930\n",
            "Epoch 2/15\n",
            "80/80 [==============================] - 217s 3s/step - loss: 0.5570 - accuracy: 0.8789 - val_loss: 0.3518 - val_accuracy: 0.8695\n",
            "Epoch 3/15\n",
            "80/80 [==============================] - 209s 3s/step - loss: 0.4510 - accuracy: 0.8947 - val_loss: 0.6344 - val_accuracy: 0.7633\n",
            "Epoch 4/15\n",
            "80/80 [==============================] - 211s 3s/step - loss: 0.4981 - accuracy: 0.8782 - val_loss: 0.3431 - val_accuracy: 0.8656\n",
            "Epoch 00004: early stopping\n"
          ],
          "name": "stdout"
        }
      ]
    },
    {
      "cell_type": "code",
      "metadata": {
        "colab": {
          "base_uri": "https://localhost:8080/"
        },
        "id": "Wd1kQ4fVlP-A",
        "outputId": "12760465-9cc2-4336-970a-e7d74cdb95f6"
      },
      "source": [
        "#model.load_weights('xmodel.h5')\n",
        "\n",
        "Y_pred = model.predict(validation_generator, 1288 // 64 + 1)\n",
        "y_pred = np.argmax(Y_pred, axis=1)\n",
        "\n",
        "true_classes = validation_generator.classes\n",
        "class_labels = list(validation_generator.class_indices.keys())\n",
        "\n",
        "print('Confusion Matrix')\n",
        "conf = confusion_matrix(validation_generator.classes, y_pred)\n",
        "print(conf)\n",
        "print()\n",
        "print('Classification Report')\n",
        "target_names = ['COVID19', 'NORMAL', 'PNEUMONIA']\n",
        "print(classification_report(true_classes, y_pred, target_names=class_labels))"
      ],
      "execution_count": null,
      "outputs": [
        {
          "output_type": "stream",
          "text": [
            "Confusion Matrix\n",
            "[[106   7   3]\n",
            " [  0 312   5]\n",
            " [  2 157 696]]\n",
            "\n",
            "Classification Report\n",
            "              precision    recall  f1-score   support\n",
            "\n",
            "     COVID19       0.98      0.91      0.95       116\n",
            "      NORMAL       0.66      0.98      0.79       317\n",
            "   PNEUMONIA       0.99      0.81      0.89       855\n",
            "\n",
            "    accuracy                           0.86      1288\n",
            "   macro avg       0.88      0.90      0.88      1288\n",
            "weighted avg       0.91      0.86      0.87      1288\n",
            "\n"
          ],
          "name": "stdout"
        }
      ]
    },
    {
      "cell_type": "code",
      "metadata": {
        "colab": {
          "base_uri": "https://localhost:8080/",
          "height": 282
        },
        "id": "z-t8mlTodA48",
        "outputId": "fa2cf825-5b20-4b7d-9c34-54adf589f5f5"
      },
      "source": [
        "sns.heatmap(conf, annot=True, fmt=\"d\")"
      ],
      "execution_count": null,
      "outputs": [
        {
          "output_type": "execute_result",
          "data": {
            "text/plain": [
              "<matplotlib.axes._subplots.AxesSubplot at 0x7fb71d3c3090>"
            ]
          },
          "metadata": {
            "tags": []
          },
          "execution_count": 46
        },
        {
          "output_type": "display_data",
          "data": {
            "image/png": "[encoded data removed]",
            "text/plain": [
              "<Figure size 432x288 with 2 Axes>"
            ]
          },
          "metadata": {
            "tags": [],
            "needs_background": "light"
          }
        }
      ]
    },
    {
      "cell_type": "code",
      "metadata": {
        "id": "2073nWKEdYm1"
      },
      "source": [
        ""
      ],
      "execution_count": null,
      "outputs": []
    },
    {
      "cell_type": "markdown",
      "metadata": {
        "id": "vfDm0WMNSVJa"
      },
      "source": [
        "# **ResNet152V2 Model with Weighted Class:**"
      ]
    },
    {
      "cell_type": "code",
      "metadata": {
        "colab": {
          "base_uri": "https://localhost:8080/"
        },
        "id": "IC1f7ia3SXAA",
        "outputId": "1859f2d4-34be-4467-f9fd-b6600790c4fa"
      },
      "source": [
        "# ResNet152V2\n",
        "img_width, img_height = 256, 256\n",
        "\n",
        "train_data_dir = \"/content/drive/MyDrive/Colab Notebooks/ML_Assignment_3GroupsLungXraysData/train\"\n",
        "validation_data_dir = \"/content/drive/MyDrive/Colab Notebooks/ML_Assignment_3GroupsLungXraysData/test\"\n",
        "nb_train_samples = 5147 \n",
        "nb_validation_samples = 1291\n",
        "epochs = 15\n",
        "batch_size = 64\n",
        "\n",
        "input_shape = (img_width, img_height, 3) \n",
        "\n",
        "ResNet=ResNet152V2(include_top=False,weights='imagenet',input_shape=input_shape)\n",
        "\n",
        "for layer in ResNet.layers:\n",
        "   layer.trainable = False\n",
        "\n",
        "x=GlobalAveragePooling2D()(ResNet.output)\n",
        "x=Dense(512, activation='relu')(x)\n",
        "prediction=Dense(3,activation='softmax')(x)\n",
        "model=Model(inputs=ResNet.input,outputs=prediction)\n",
        "\n",
        "model.compile(optimizer='adam', loss='categorical_crossentropy', metrics=['accuracy'])\n",
        "\n",
        "train_datagen = ImageDataGenerator( \n",
        "    rescale=1. / 255, \n",
        "    rotation_range=20,\n",
        "    shear_range=0.2, \n",
        "    zoom_range=0.2, \n",
        "    horizontal_flip=True) \n",
        "  \n",
        "test_datagen = ImageDataGenerator(rescale=1. / 255) \n",
        "  \n",
        "train_generator = train_datagen.flow_from_directory( \n",
        "    train_data_dir, \n",
        "    target_size=(img_width, img_height), \n",
        "    batch_size=batch_size, \n",
        "    class_mode='categorical') \n",
        "  \n",
        "validation_generator = test_datagen.flow_from_directory( \n",
        "    validation_data_dir, \n",
        "    target_size=(img_width, img_height), \n",
        "    batch_size=batch_size, \n",
        "    class_mode='categorical',\n",
        "    shuffle=False) \n",
        "\n",
        "now = datetime.datetime.now()\n",
        "print (\"Current date and time : \")\n",
        "print (now.strftime(\"%Y-%m-%d %H:%M:%S\"))\n",
        "\n",
        "es = EarlyStopping(monitor='val_loss', mode='min', verbose=1, patience=3)\n",
        "\n",
        "class_weights = {0: 7.,\n",
        "                1: 3.,\n",
        "                2: 1.}\n",
        "\n",
        "h = model.fit( \n",
        "    train_generator, \n",
        "    steps_per_epoch=nb_train_samples // batch_size, \n",
        "    epochs=epochs, \n",
        "    validation_data=validation_generator, \n",
        "    validation_steps=nb_validation_samples // batch_size,\n",
        "    callbacks=[es],\n",
        "    class_weight=class_weights)"
      ],
      "execution_count": null,
      "outputs": [
        {
          "output_type": "stream",
          "text": [
            "Downloading data from https://storage.googleapis.com/tensorflow/keras-applications/resnet/resnet152v2_weights_tf_dim_ordering_tf_kernels_notop.h5\n",
            "234553344/234545216 [==============================] - 2s 0us/step\n",
            "Found 5144 images belonging to 3 classes.\n",
            "Found 1288 images belonging to 3 classes.\n",
            "Current date and time : \n",
            "2021-04-12 04:15:40\n",
            "Epoch 1/15\n",
            "80/80 [==============================] - 227s 3s/step - loss: 1.5581 - accuracy: 0.7310 - val_loss: 0.2303 - val_accuracy: 0.9141\n",
            "Epoch 2/15\n",
            "80/80 [==============================] - 213s 3s/step - loss: 0.3685 - accuracy: 0.9216 - val_loss: 0.2676 - val_accuracy: 0.9016\n",
            "Epoch 3/15\n",
            "80/80 [==============================] - 213s 3s/step - loss: 0.3246 - accuracy: 0.9307 - val_loss: 0.1995 - val_accuracy: 0.9273\n",
            "Epoch 4/15\n",
            "80/80 [==============================] - 215s 3s/step - loss: 0.3154 - accuracy: 0.9348 - val_loss: 0.2483 - val_accuracy: 0.9156\n",
            "Epoch 5/15\n",
            "80/80 [==============================] - 215s 3s/step - loss: 0.2630 - accuracy: 0.9424 - val_loss: 0.3824 - val_accuracy: 0.8695\n",
            "Epoch 6/15\n",
            "80/80 [==============================] - 212s 3s/step - loss: 0.2450 - accuracy: 0.9399 - val_loss: 0.3308 - val_accuracy: 0.8906\n",
            "Epoch 00006: early stopping\n"
          ],
          "name": "stdout"
        }
      ]
    },
    {
      "cell_type": "code",
      "metadata": {
        "colab": {
          "base_uri": "https://localhost:8080/"
        },
        "id": "U9ZeOrRhShjO",
        "outputId": "8b116106-dfb9-4153-febe-d0a8c71bb950"
      },
      "source": [
        "#model.load_weights('xmodel.h5')\n",
        "\n",
        "Y_pred = model.predict(validation_generator, 1288 // 64 + 1)\n",
        "y_pred = np.argmax(Y_pred, axis=1)\n",
        "\n",
        "true_classes = validation_generator.classes\n",
        "class_labels = list(validation_generator.class_indices.keys())\n",
        "\n",
        "print('Confusion Matrix')\n",
        "conf = confusion_matrix(validation_generator.classes, y_pred)\n",
        "print(conf)\n",
        "print()\n",
        "print('Classification Report')\n",
        "target_names = ['COVID19', 'NORMAL', 'PNEUMONIA']\n",
        "print(classification_report(true_classes, y_pred, target_names=class_labels))"
      ],
      "execution_count": null,
      "outputs": [
        {
          "output_type": "stream",
          "text": [
            "Confusion Matrix\n",
            "[[109   4   3]\n",
            " [  2 307   8]\n",
            " [  1 122 732]]\n",
            "\n",
            "Classification Report\n",
            "              precision    recall  f1-score   support\n",
            "\n",
            "     COVID19       0.97      0.94      0.96       116\n",
            "      NORMAL       0.71      0.97      0.82       317\n",
            "   PNEUMONIA       0.99      0.86      0.92       855\n",
            "\n",
            "    accuracy                           0.89      1288\n",
            "   macro avg       0.89      0.92      0.90      1288\n",
            "weighted avg       0.92      0.89      0.90      1288\n",
            "\n"
          ],
          "name": "stdout"
        }
      ]
    },
    {
      "cell_type": "code",
      "metadata": {
        "colab": {
          "base_uri": "https://localhost:8080/",
          "height": 282
        },
        "id": "smcQBO3hSi1c",
        "outputId": "37c6220b-1705-4292-93c3-b65850117b1d"
      },
      "source": [
        "sns.heatmap(conf, annot=True, fmt=\"d\")"
      ],
      "execution_count": null,
      "outputs": [
        {
          "output_type": "execute_result",
          "data": {
            "text/plain": [
              "<matplotlib.axes._subplots.AxesSubplot at 0x7fb5a644bbd0>"
            ]
          },
          "metadata": {
            "tags": []
          },
          "execution_count": 13
        },
        {
          "output_type": "display_data",
          "data": {
            "image/png": "[encoded data removed]",
            "text/plain": [
              "<Figure size 432x288 with 2 Axes>"
            ]
          },
          "metadata": {
            "tags": [],
            "needs_background": "light"
          }
        }
      ]
    },
    {
      "cell_type": "code",
      "metadata": {
        "id": "RgqGYSpQdA7z"
      },
      "source": [
        ""
      ],
      "execution_count": null,
      "outputs": []
    },
    {
      "cell_type": "code",
      "metadata": {
        "id": "UVmwo8TrX98s"
      },
      "source": [
        ""
      ],
      "execution_count": null,
      "outputs": []
    },
    {
      "cell_type": "markdown",
      "metadata": {
        "id": "H-7OTP4qYMy8"
      },
      "source": [
        "# **Balanced Training set (Oversampled-Augmented Img) + Balanced Test Set**"
      ]
    },
    {
      "cell_type": "code",
      "metadata": {
        "colab": {
          "base_uri": "https://localhost:8080/"
        },
        "id": "StYOqUgVpe-p",
        "outputId": "4263c672-a572-48d0-efa9-1a3085609054"
      },
      "source": [
        "import os\n",
        "arc = []\n",
        "# this is the directory\n",
        "str_directory = \"/content/drive/MyDrive/Colab Notebooks/XraysData_augmented/train/PNEUMONIA\"\n",
        "# get list of all files in the directory and remove possible hidden files\n",
        "list_files = [x for x in os.listdir(str_directory) if x[0]!='.']\n",
        "# now loop through the files and remove empty ones\n",
        "for each_file in list_files:\n",
        "    file_path = '%s/%s' % (str_directory, each_file)\n",
        "    # check size and delete if 0\n",
        "    if os.path.getsize(file_path)==0:\n",
        "        #os.remove(file_path)\n",
        "        arc.append(file_path)\n",
        "    else:\n",
        "        pass\n",
        "\n",
        "print(len(arc))"
      ],
      "execution_count": null,
      "outputs": [
        {
          "output_type": "stream",
          "text": [
            "0\n"
          ],
          "name": "stdout"
        }
      ]
    },
    {
      "cell_type": "code",
      "metadata": {
        "colab": {
          "base_uri": "https://localhost:8080/"
        },
        "id": "_9VS4HW4PNRj",
        "outputId": "db212573-a2bd-4193-83a1-373427e54259"
      },
      "source": [
        "import fnmatch\n",
        "print(\"Training Set:\" + \"\\n\")\n",
        "\n",
        "dirpath = \"/content/drive/MyDrive/Colab Notebooks/XraysData_augmented/train/COVID19\"\n",
        "print(\"COVID19: \" + str(len(fnmatch.filter(os.listdir(dirpath), '*.jpg'))) )\n",
        "\n",
        "dirpath = \"/content/drive/MyDrive/Colab Notebooks/XraysData_augmented/train/NORMAL\"\n",
        "print(\"NORMAL: \" + str(len(fnmatch.filter(os.listdir(dirpath), '*.jpg'))) )\n",
        "\n",
        "dirpath = \"/content/drive/MyDrive/Colab Notebooks/XraysData_augmented/train/PNEUMONIA\"\n",
        "print(\"PNEUMONIA: \" + str(len(fnmatch.filter(os.listdir(dirpath), '*.jpg' ))) + \"\\n\")\n",
        "\n",
        "print(\"Validation Set:\" + \"\\n\")\n",
        "\n",
        "dirpath = \"/content/drive/MyDrive/Colab Notebooks/XraysData_augmented/test/COVID19\"\n",
        "print(\"COVID19: \" + str(len(fnmatch.filter(os.listdir(dirpath), '*.jpg'))) )\n",
        "\n",
        "dirpath = \"/content/drive/MyDrive/Colab Notebooks/XraysData_augmented/test/NORMAL\"\n",
        "print(\"NORMAL: \" + str(len(fnmatch.filter(os.listdir(dirpath), '*.jpg'))) )\n",
        "\n",
        "dirpath = \"/content/drive/MyDrive/Colab Notebooks/XraysData_augmented/test/PNEUMONIA\"\n",
        "print(\"PNEUMONIA: \" + str(len(fnmatch.filter(os.listdir(dirpath), '*.jpg'))) )\n"
      ],
      "execution_count": null,
      "outputs": [
        {
          "output_type": "stream",
          "text": [
            "Training Set:\n",
            "\n",
            "COVID19: 3972\n",
            "NORMAL: 4015\n",
            "PNEUMONIA: 4173\n",
            "\n",
            "Validation Set:\n",
            "\n",
            "COVID19: 100\n",
            "NORMAL: 100\n",
            "PNEUMONIA: 100\n"
          ],
          "name": "stdout"
        }
      ]
    },
    {
      "cell_type": "markdown",
      "metadata": {
        "id": "jsh5yg7tX_ll"
      },
      "source": [
        "# **NasNetLarge Model with Balanced Training set (Oversampled-Augmented Img) + Balanced Test Set**"
      ]
    },
    {
      "cell_type": "code",
      "metadata": {
        "colab": {
          "base_uri": "https://localhost:8080/"
        },
        "id": "BoqKfWFsYT6F",
        "outputId": "98ff21d9-b4e5-46da-cf50-2a83f13d9f1b"
      },
      "source": [
        "# NASNetLarge\n",
        "img_width, img_height = 331, 331\n",
        "\n",
        "train_data_dir = \"/content/drive/MyDrive/Colab Notebooks/XraysData_augmented/train\"\n",
        "validation_data_dir = \"/content/drive/MyDrive/Colab Notebooks/XraysData_augmented/test\"\n",
        "nb_train_samples = 12160 \n",
        "nb_validation_samples = 300\n",
        "epochs = 15\n",
        "batch_size = 64\n",
        "\n",
        "input_shape = (img_width, img_height, 3) \n",
        "\n",
        "xception=Xception(include_top=False,weights='imagenet',input_shape=input_shape)\n",
        "\n",
        "for layer in xception.layers:\n",
        "   layer.trainable = False\n",
        "\n",
        "x=GlobalAveragePooling2D()(xception.output)\n",
        "x=Dense(512, activation='relu')(x)\n",
        "prediction=Dense(3,activation='softmax')(x)\n",
        "model=Model(inputs=xception.input,outputs=prediction)\n",
        "\n",
        "model.compile(optimizer='adam', loss='categorical_crossentropy', metrics=['accuracy'])\n",
        "\n",
        "train_datagen = ImageDataGenerator( \n",
        "    rescale=1. / 255, \n",
        "    rotation_range=20,\n",
        "    shear_range=0.2, \n",
        "    zoom_range=0.2, \n",
        "    horizontal_flip=True) \n",
        "  \n",
        "test_datagen = ImageDataGenerator(rescale=1. / 255) \n",
        "  \n",
        "train_generator = train_datagen.flow_from_directory( \n",
        "    train_data_dir, \n",
        "    target_size=(img_width, img_height), \n",
        "    batch_size=batch_size, \n",
        "    class_mode='categorical') \n",
        "  \n",
        "validation_generator = test_datagen.flow_from_directory( \n",
        "    validation_data_dir, \n",
        "    target_size=(img_width, img_height), \n",
        "    batch_size=batch_size, \n",
        "    class_mode='categorical',\n",
        "    shuffle = False) \n",
        "\n",
        "now = datetime.datetime.now()\n",
        "print (\"Current date and time : \")\n",
        "print (now.strftime(\"%Y-%m-%d %H:%M:%S\"))\n",
        "\n",
        "es = EarlyStopping(monitor='val_loss', mode='min', verbose=1, patience=3)\n",
        "\n",
        "h = model.fit( \n",
        "    train_generator, \n",
        "    steps_per_epoch=nb_train_samples // batch_size, \n",
        "    epochs=epochs, \n",
        "    validation_data=validation_generator, \n",
        "    validation_steps=nb_validation_samples // batch_size,\n",
        "    callbacks=[es])\n",
        "\n",
        "#model.save_weights('xmodel.h5')"
      ],
      "execution_count": null,
      "outputs": [
        {
          "output_type": "stream",
          "text": [
            "Downloading data from https://storage.googleapis.com/tensorflow/keras-applications/xception/xception_weights_tf_dim_ordering_tf_kernels_notop.h5\n",
            "83689472/83683744 [==============================] - 0s 0us/step\n",
            "Found 12160 images belonging to 3 classes.\n",
            "Found 300 images belonging to 3 classes.\n",
            "Current date and time : \n",
            "2021-04-12 04:42:00\n",
            "Epoch 1/15\n",
            "190/190 [==============================] - 4512s 24s/step - loss: 0.2750 - accuracy: 0.8891 - val_loss: 0.3208 - val_accuracy: 0.8945\n",
            "Epoch 2/15\n",
            "190/190 [==============================] - 597s 3s/step - loss: 0.1364 - accuracy: 0.9485 - val_loss: 0.1798 - val_accuracy: 0.9258\n",
            "Epoch 3/15\n",
            "190/190 [==============================] - 587s 3s/step - loss: 0.1086 - accuracy: 0.9617 - val_loss: 0.2231 - val_accuracy: 0.9141\n",
            "Epoch 4/15\n",
            "190/190 [==============================] - 585s 3s/step - loss: 0.0981 - accuracy: 0.9612 - val_loss: 0.2952 - val_accuracy: 0.8984\n",
            "Epoch 5/15\n",
            "190/190 [==============================] - 582s 3s/step - loss: 0.1100 - accuracy: 0.9599 - val_loss: 0.2027 - val_accuracy: 0.9375\n",
            "Epoch 00005: early stopping\n"
          ],
          "name": "stdout"
        }
      ]
    },
    {
      "cell_type": "code",
      "metadata": {
        "colab": {
          "base_uri": "https://localhost:8080/"
        },
        "id": "Fj2fZxmoYdFF",
        "outputId": "983fbfdf-ee81-4c5c-b162-6a32ba70ca6b"
      },
      "source": [
        "Y_pred = model.predict(validation_generator, 300 // 64 + 1)\n",
        "y_pred = np.argmax(Y_pred, axis=1)\n",
        "\n",
        "true_classes = validation_generator.classes\n",
        "class_labels = list(validation_generator.class_indices.keys())\n",
        "\n",
        "print('Confusion Matrix')\n",
        "conf = confusion_matrix(validation_generator.classes, y_pred)\n",
        "print(conf)\n",
        "print()\n",
        "print('Classification Report')\n",
        "target_names = ['COVID19', 'NORMAL', 'PNEUMONIA']\n",
        "print(classification_report(true_classes, y_pred, target_names=class_labels))"
      ],
      "execution_count": null,
      "outputs": [
        {
          "output_type": "stream",
          "text": [
            "Confusion Matrix\n",
            "[[91  4  5]\n",
            " [ 0 97  3]\n",
            " [ 0  5 95]]\n",
            "\n",
            "Classification Report\n",
            "              precision    recall  f1-score   support\n",
            "\n",
            "     COVID19       1.00      0.91      0.95       100\n",
            "      NORMAL       0.92      0.97      0.94       100\n",
            "   PNEUMONIA       0.92      0.95      0.94       100\n",
            "\n",
            "    accuracy                           0.94       300\n",
            "   macro avg       0.95      0.94      0.94       300\n",
            "weighted avg       0.95      0.94      0.94       300\n",
            "\n"
          ],
          "name": "stdout"
        }
      ]
    },
    {
      "cell_type": "code",
      "metadata": {
        "colab": {
          "base_uri": "https://localhost:8080/",
          "height": 282
        },
        "id": "SwCOjBB-YT13",
        "outputId": "9a36658c-16a3-4239-d960-aa9205b74117"
      },
      "source": [
        "sns.heatmap(conf, annot=True, fmt=\"d\")"
      ],
      "execution_count": null,
      "outputs": [
        {
          "output_type": "execute_result",
          "data": {
            "text/plain": [
              "<matplotlib.axes._subplots.AxesSubplot at 0x7fb5a69dea50>"
            ]
          },
          "metadata": {
            "tags": []
          },
          "execution_count": 16
        },
        {
          "output_type": "display_data",
          "data": {
            "image/png": "[encoded data removed]",
            "text/plain": [
              "<Figure size 432x288 with 2 Axes>"
            ]
          },
          "metadata": {
            "tags": [],
            "needs_background": "light"
          }
        }
      ]
    },
    {
      "cell_type": "code",
      "metadata": {
        "id": "nS4Y4OQTYTvk"
      },
      "source": [
        ""
      ],
      "execution_count": null,
      "outputs": []
    },
    {
      "cell_type": "markdown",
      "metadata": {
        "id": "-GlOt6kf4Cxv"
      },
      "source": [
        "# **Xception Model with Balanced Training set (Oversampled-Augmented Img) + Balanced Test Set**"
      ]
    },
    {
      "cell_type": "code",
      "metadata": {
        "colab": {
          "base_uri": "https://localhost:8080/"
        },
        "id": "yDn-T-8s4Xys",
        "outputId": "00285968-6307-4cd8-da5a-cb694957a597"
      },
      "source": [
        "# Xception\n",
        "img_width, img_height = 256, 256\n",
        "\n",
        "train_data_dir = \"/content/drive/MyDrive/Colab Notebooks/XraysData_augmented/train\"\n",
        "validation_data_dir = \"/content/drive/MyDrive/Colab Notebooks/XraysData_augmented/test\"\n",
        "nb_train_samples = 12160 \n",
        "nb_validation_samples = 300\n",
        "epochs = 15\n",
        "batch_size = 64\n",
        "\n",
        "input_shape = (img_width, img_height, 3) \n",
        "\n",
        "xception=Xception(include_top=False,weights='imagenet',input_shape=input_shape)\n",
        "\n",
        "for layer in xception.layers:\n",
        "   layer.trainable = False\n",
        "\n",
        "x=GlobalAveragePooling2D()(xception.output)\n",
        "x=Dense(512, activation='relu')(x)\n",
        "prediction=Dense(3,activation='softmax')(x)\n",
        "model=Model(inputs=xception.input,outputs=prediction)\n",
        "\n",
        "model.compile(optimizer='adam', loss='categorical_crossentropy', metrics=['accuracy'])\n",
        "\n",
        "train_datagen = ImageDataGenerator( \n",
        "    rescale=1. / 255, \n",
        "    rotation_range=20,\n",
        "    shear_range=0.2, \n",
        "    zoom_range=0.2, \n",
        "    horizontal_flip=True) \n",
        "  \n",
        "test_datagen = ImageDataGenerator(rescale=1. / 255) \n",
        "  \n",
        "train_generator = train_datagen.flow_from_directory( \n",
        "    train_data_dir, \n",
        "    target_size=(img_width, img_height), \n",
        "    batch_size=batch_size, \n",
        "    class_mode='categorical') \n",
        "  \n",
        "validation_generator = test_datagen.flow_from_directory( \n",
        "    validation_data_dir, \n",
        "    target_size=(img_width, img_height), \n",
        "    batch_size=batch_size, \n",
        "    class_mode='categorical',\n",
        "    shuffle = False) \n",
        "\n",
        "now = datetime.datetime.now()\n",
        "print (\"Current date and time : \")\n",
        "print (now.strftime(\"%Y-%m-%d %H:%M:%S\"))\n",
        "\n",
        "es = EarlyStopping(monitor='val_loss', mode='min', verbose=1, patience=3)\n",
        "\n",
        "h = model.fit( \n",
        "    train_generator, \n",
        "    steps_per_epoch=nb_train_samples // batch_size, \n",
        "    epochs=epochs, \n",
        "    validation_data=validation_generator, \n",
        "    validation_steps=nb_validation_samples // batch_size,\n",
        "    callbacks=[es])\n",
        "\n",
        "model.save_weights('xmodel.h5')"
      ],
      "execution_count": null,
      "outputs": [
        {
          "output_type": "stream",
          "text": [
            "Found 12160 images belonging to 3 classes.\n",
            "Found 300 images belonging to 3 classes.\n",
            "Current date and time : \n",
            "2021-04-08 07:00:53\n",
            "Epoch 1/15\n",
            "190/190 [==============================] - 455s 2s/step - loss: 0.3358 - accuracy: 0.8588 - val_loss: 0.2189 - val_accuracy: 0.9141\n",
            "Epoch 2/15\n",
            "190/190 [==============================] - 449s 2s/step - loss: 0.1574 - accuracy: 0.9412 - val_loss: 0.2947 - val_accuracy: 0.8828\n",
            "Epoch 3/15\n",
            "190/190 [==============================] - 462s 2s/step - loss: 0.1272 - accuracy: 0.9535 - val_loss: 0.2291 - val_accuracy: 0.9023\n",
            "Epoch 4/15\n",
            "190/190 [==============================] - 461s 2s/step - loss: 0.1147 - accuracy: 0.9570 - val_loss: 0.3004 - val_accuracy: 0.8984\n",
            "Epoch 00004: early stopping\n"
          ],
          "name": "stdout"
        }
      ]
    },
    {
      "cell_type": "code",
      "metadata": {
        "colab": {
          "base_uri": "https://localhost:8080/"
        },
        "id": "nJU2zA0M4e2e",
        "outputId": "691c014c-331e-4343-8275-5a34adb8f8be"
      },
      "source": [
        "Y_pred = model.predict(validation_generator, 300 // 64 + 1)\n",
        "y_pred = np.argmax(Y_pred, axis=1)\n",
        "\n",
        "true_classes = validation_generator.classes\n",
        "class_labels = list(validation_generator.class_indices.keys())\n",
        "\n",
        "print('Confusion Matrix')\n",
        "conf = confusion_matrix(validation_generator.classes, y_pred)\n",
        "print(conf)\n",
        "print()\n",
        "print('Classification Report')\n",
        "target_names = ['COVID19', 'NORMAL', 'PNEUMONIA']\n",
        "print(classification_report(true_classes, y_pred, target_names=class_labels))"
      ],
      "execution_count": null,
      "outputs": [
        {
          "output_type": "stream",
          "text": [
            "Confusion Matrix\n",
            "[[92  4  4]\n",
            " [ 0 99  1]\n",
            " [ 0 30 70]]\n",
            "\n",
            "Classification Report\n",
            "              precision    recall  f1-score   support\n",
            "\n",
            "     COVID19       1.00      0.92      0.96       100\n",
            "      NORMAL       0.74      0.99      0.85       100\n",
            "   PNEUMONIA       0.93      0.70      0.80       100\n",
            "\n",
            "    accuracy                           0.87       300\n",
            "   macro avg       0.89      0.87      0.87       300\n",
            "weighted avg       0.89      0.87      0.87       300\n",
            "\n"
          ],
          "name": "stdout"
        }
      ]
    },
    {
      "cell_type": "code",
      "metadata": {
        "colab": {
          "base_uri": "https://localhost:8080/",
          "height": 282
        },
        "id": "P5Jrxzl94e5J",
        "outputId": "b1cf3c28-ab63-48e2-8ee6-3d5b4e807b94"
      },
      "source": [
        "sns.heatmap(conf, annot=True, fmt=\"d\")"
      ],
      "execution_count": null,
      "outputs": [
        {
          "output_type": "execute_result",
          "data": {
            "text/plain": [
              "<matplotlib.axes._subplots.AxesSubplot at 0x7fb6820d0750>"
            ]
          },
          "metadata": {
            "tags": []
          },
          "execution_count": 40
        },
        {
          "output_type": "display_data",
          "data": {
            "image/png": "[encoded data removed]",
            "text/plain": [
              "<Figure size 432x288 with 2 Axes>"
            ]
          },
          "metadata": {
            "tags": [],
            "needs_background": "light"
          }
        }
      ]
    },
    {
      "cell_type": "code",
      "metadata": {
        "id": "SY7ODyHRAMZo"
      },
      "source": [
        ""
      ],
      "execution_count": null,
      "outputs": []
    },
    {
      "cell_type": "code",
      "metadata": {
        "id": "BJI_YQPiZxGy"
      },
      "source": [
        ""
      ],
      "execution_count": null,
      "outputs": []
    },
    {
      "cell_type": "markdown",
      "metadata": {
        "id": "nWuVcJD3Z3DN"
      },
      "source": [
        "# **InceptionResNetV2 Model with Balanced Training set (Oversampled-Augmented Img) + Balanced Test Set**"
      ]
    },
    {
      "cell_type": "code",
      "metadata": {
        "colab": {
          "base_uri": "https://localhost:8080/"
        },
        "id": "NNUiuuwAZxJ3",
        "outputId": "b010da5d-7a1d-4bb7-942e-05407f3d74a2"
      },
      "source": [
        "# InceptionResNetV2\n",
        "img_width, img_height = 256, 256\n",
        "\n",
        "train_data_dir = \"/content/drive/MyDrive/Colab Notebooks/XraysData_augmented/train\"\n",
        "validation_data_dir = \"/content/drive/MyDrive/Colab Notebooks/XraysData_augmented/test\"\n",
        "nb_train_samples = 12160 \n",
        "nb_validation_samples = 300\n",
        "epochs = 15\n",
        "batch_size = 64\n",
        "\n",
        "input_shape = (img_width, img_height, 3) \n",
        "\n",
        "inceptionresnet=InceptionResNetV2(include_top=False,weights='imagenet',input_shape=input_shape)\n",
        "\n",
        "for layer in inceptionresnet.layers:\n",
        "   layer.trainable = False\n",
        "\n",
        "x=GlobalAveragePooling2D()(inceptionresnet.output)\n",
        "x=Dense(512, activation='relu')(x)\n",
        "prediction=Dense(3,activation='softmax')(x)\n",
        "model=Model(inputs=inceptionresnet.input,outputs=prediction)\n",
        "\n",
        "model.compile(optimizer='adam', loss='categorical_crossentropy', metrics=['accuracy'])\n",
        "\n",
        "train_datagen = ImageDataGenerator( \n",
        "    rescale=1. / 255, \n",
        "    rotation_range=20,\n",
        "    shear_range=0.2, \n",
        "    zoom_range=0.2, \n",
        "    horizontal_flip=True) \n",
        "  \n",
        "test_datagen = ImageDataGenerator(rescale=1. / 255) \n",
        "  \n",
        "train_generator = train_datagen.flow_from_directory( \n",
        "    train_data_dir, \n",
        "    target_size=(img_width, img_height), \n",
        "    batch_size=batch_size, \n",
        "    class_mode='categorical') \n",
        "  \n",
        "validation_generator = test_datagen.flow_from_directory( \n",
        "    validation_data_dir, \n",
        "    target_size=(img_width, img_height), \n",
        "    batch_size=batch_size, \n",
        "    class_mode='categorical',\n",
        "    shuffle=False) \n",
        "\n",
        "now = datetime.datetime.now()\n",
        "print (\"Current date and time : \")\n",
        "print (now.strftime(\"%Y-%m-%d %H:%M:%S\"))\n",
        "\n",
        "es = EarlyStopping(monitor='val_loss', mode='min', verbose=1, patience=3)\n",
        "\n",
        "h = model.fit( \n",
        "    train_generator, \n",
        "    steps_per_epoch=nb_train_samples // batch_size, \n",
        "    epochs=epochs, \n",
        "    validation_data=validation_generator, \n",
        "    validation_steps=nb_validation_samples // batch_size,\n",
        "    callbacks=[es])"
      ],
      "execution_count": null,
      "outputs": [
        {
          "output_type": "stream",
          "text": [
            "Downloading data from https://storage.googleapis.com/tensorflow/keras-applications/inception_resnet_v2/inception_resnet_v2_weights_tf_dim_ordering_tf_kernels_notop.h5\n",
            "219062272/219055592 [==============================] - 1s 0us/step\n",
            "Found 12160 images belonging to 3 classes.\n",
            "Found 300 images belonging to 3 classes.\n",
            "Current date and time : \n",
            "2021-04-08 07:35:46\n",
            "Epoch 1/15\n",
            "190/190 [==============================] - 480s 2s/step - loss: 0.6100 - accuracy: 0.8064 - val_loss: 0.1796 - val_accuracy: 0.9219\n",
            "Epoch 2/15\n",
            "190/190 [==============================] - 471s 2s/step - loss: 0.1786 - accuracy: 0.9372 - val_loss: 0.3964 - val_accuracy: 0.8672\n",
            "Epoch 3/15\n",
            "190/190 [==============================] - 465s 2s/step - loss: 0.1898 - accuracy: 0.9299 - val_loss: 0.1658 - val_accuracy: 0.9453\n",
            "Epoch 4/15\n",
            "190/190 [==============================] - 464s 2s/step - loss: 0.1579 - accuracy: 0.9395 - val_loss: 0.2157 - val_accuracy: 0.9102\n",
            "Epoch 5/15\n",
            "190/190 [==============================] - 460s 2s/step - loss: 0.1426 - accuracy: 0.9471 - val_loss: 0.2236 - val_accuracy: 0.9102\n",
            "Epoch 6/15\n",
            "190/190 [==============================] - 453s 2s/step - loss: 0.1361 - accuracy: 0.9507 - val_loss: 0.1812 - val_accuracy: 0.9219\n",
            "Epoch 00006: early stopping\n"
          ],
          "name": "stdout"
        }
      ]
    },
    {
      "cell_type": "code",
      "metadata": {
        "colab": {
          "base_uri": "https://localhost:8080/"
        },
        "id": "lymsAP_xaDPg",
        "outputId": "0d5e7a90-0caf-4816-9666-79038737e845"
      },
      "source": [
        "Y_pred = model.predict(validation_generator, 300 // 64 + 1)\n",
        "y_pred = np.argmax(Y_pred, axis=1)\n",
        "\n",
        "true_classes = validation_generator.classes\n",
        "class_labels = list(validation_generator.class_indices.keys())\n",
        "\n",
        "print('Confusion Matrix')\n",
        "conf = confusion_matrix(validation_generator.classes, y_pred)\n",
        "print(conf)\n",
        "print()\n",
        "print('Classification Report')\n",
        "target_names = ['COVID19', 'NORMAL', 'PNEUMONIA']\n",
        "print(classification_report(true_classes, y_pred, target_names=class_labels))"
      ],
      "execution_count": null,
      "outputs": [
        {
          "output_type": "stream",
          "text": [
            "Confusion Matrix\n",
            "[[90  4  6]\n",
            " [ 0 95  5]\n",
            " [ 0  9 91]]\n",
            "\n",
            "Classification Report\n",
            "              precision    recall  f1-score   support\n",
            "\n",
            "     COVID19       1.00      0.90      0.95       100\n",
            "      NORMAL       0.88      0.95      0.91       100\n",
            "   PNEUMONIA       0.89      0.91      0.90       100\n",
            "\n",
            "    accuracy                           0.92       300\n",
            "   macro avg       0.92      0.92      0.92       300\n",
            "weighted avg       0.92      0.92      0.92       300\n",
            "\n"
          ],
          "name": "stdout"
        }
      ]
    },
    {
      "cell_type": "code",
      "metadata": {
        "colab": {
          "base_uri": "https://localhost:8080/",
          "height": 282
        },
        "id": "9AEzW40GaDRt",
        "outputId": "8fe2e428-387f-40da-e50c-3929930533f0"
      },
      "source": [
        "sns.heatmap(conf, annot=True, fmt=\"d\")"
      ],
      "execution_count": null,
      "outputs": [
        {
          "output_type": "execute_result",
          "data": {
            "text/plain": [
              "<matplotlib.axes._subplots.AxesSubplot at 0x7fb660086210>"
            ]
          },
          "metadata": {
            "tags": []
          },
          "execution_count": 43
        },
        {
          "output_type": "display_data",
          "data": {
            "image/png": "[encoded data removed]",
            "text/plain": [
              "<Figure size 432x288 with 2 Axes>"
            ]
          },
          "metadata": {
            "tags": [],
            "needs_background": "light"
          }
        }
      ]
    },
    {
      "cell_type": "code",
      "metadata": {
        "id": "Nzxpu_rMk72_"
      },
      "source": [
        ""
      ],
      "execution_count": null,
      "outputs": []
    },
    {
      "cell_type": "code",
      "metadata": {
        "id": "aVbcL6rAVg3w"
      },
      "source": [
        ""
      ],
      "execution_count": null,
      "outputs": []
    },
    {
      "cell_type": "markdown",
      "metadata": {
        "id": "3v8oqlP9zhGR"
      },
      "source": [
        "# **ResNet152V2 Model with Balanced Training set (Oversampled-Augmented Img) + Balanced Test Set**"
      ]
    },
    {
      "cell_type": "code",
      "metadata": {
        "id": "6u7Bq67IVgv-",
        "colab": {
          "base_uri": "https://localhost:8080/"
        },
        "outputId": "2323e4d3-0253-471e-807c-2c3d7c52ec41"
      },
      "source": [
        "# ResNet152V2\n",
        "img_width, img_height = 256, 256\n",
        "\n",
        "train_data_dir = \"/content/drive/MyDrive/Colab Notebooks/XraysData_augmented/train\"\n",
        "validation_data_dir = \"/content/drive/MyDrive/Colab Notebooks/XraysData_augmented/test\"\n",
        "nb_train_samples = 12160 \n",
        "nb_validation_samples = 300\n",
        "epochs = 15\n",
        "batch_size = 64\n",
        "\n",
        "input_shape = (img_width, img_height, 3) \n",
        "\n",
        "ResNet=ResNet152V2(include_top=False,weights='imagenet',input_shape=input_shape)\n",
        "\n",
        "for layer in ResNet.layers:\n",
        "   layer.trainable = False\n",
        "\n",
        "x=GlobalAveragePooling2D()(ResNet.output)\n",
        "x=Dense(512, activation='relu')(x)\n",
        "prediction=Dense(3,activation='softmax')(x)\n",
        "model=Model(inputs=ResNet.input,outputs=prediction)\n",
        "\n",
        "model.compile(optimizer='adam', loss='categorical_crossentropy', metrics=['accuracy'])\n",
        "\n",
        "train_datagen = ImageDataGenerator( \n",
        "    rescale=1. / 255, \n",
        "    rotation_range=20,\n",
        "    shear_range=0.2, \n",
        "    zoom_range=0.2, \n",
        "    horizontal_flip=True) \n",
        "  \n",
        "test_datagen = ImageDataGenerator(rescale=1. / 255) \n",
        "  \n",
        "train_generator = train_datagen.flow_from_directory( \n",
        "    train_data_dir, \n",
        "    target_size=(img_width, img_height), \n",
        "    batch_size=batch_size, \n",
        "    class_mode='categorical') \n",
        "  \n",
        "validation_generator = test_datagen.flow_from_directory( \n",
        "    validation_data_dir, \n",
        "    target_size=(img_width, img_height), \n",
        "    batch_size=batch_size, \n",
        "    class_mode='categorical',\n",
        "    shuffle=False) \n",
        "\n",
        "now = datetime.datetime.now()\n",
        "print (\"Current date and time : \")\n",
        "print (now.strftime(\"%Y-%m-%d %H:%M:%S\"))\n",
        "\n",
        "es = EarlyStopping(monitor='val_loss', mode='min', verbose=1, patience=3)\n",
        "\n",
        "h = model.fit( \n",
        "    train_generator, \n",
        "    steps_per_epoch=nb_train_samples // batch_size, \n",
        "    epochs=epochs, \n",
        "    validation_data=validation_generator, \n",
        "    validation_steps=nb_validation_samples // batch_size,\n",
        "    callbacks=[es])"
      ],
      "execution_count": null,
      "outputs": [
        {
          "output_type": "stream",
          "text": [
            "Found 12160 images belonging to 3 classes.\n",
            "Found 300 images belonging to 3 classes.\n",
            "Current date and time : \n",
            "2021-04-12 06:57:36\n",
            "Epoch 1/15\n",
            "190/190 [==============================] - 484s 3s/step - loss: 0.4073 - accuracy: 0.8622 - val_loss: 0.0816 - val_accuracy: 0.9688\n",
            "Epoch 2/15\n",
            "190/190 [==============================] - 470s 2s/step - loss: 0.1232 - accuracy: 0.9568 - val_loss: 0.1350 - val_accuracy: 0.9570\n",
            "Epoch 3/15\n",
            "190/190 [==============================] - 476s 3s/step - loss: 0.1050 - accuracy: 0.9625 - val_loss: 0.2348 - val_accuracy: 0.8945\n",
            "Epoch 4/15\n",
            "190/190 [==============================] - 474s 2s/step - loss: 0.1085 - accuracy: 0.9604 - val_loss: 0.0900 - val_accuracy: 0.9492\n",
            "Epoch 00004: early stopping\n"
          ],
          "name": "stdout"
        }
      ]
    },
    {
      "cell_type": "code",
      "metadata": {
        "colab": {
          "base_uri": "https://localhost:8080/"
        },
        "id": "LSUG-YzAz39f",
        "outputId": "2361ee8b-88b2-454b-8da3-f9a64807f081"
      },
      "source": [
        "Y_pred = model.predict(validation_generator, 300 // 64 + 1)\n",
        "y_pred = np.argmax(Y_pred, axis=1)\n",
        "\n",
        "true_classes = validation_generator.classes\n",
        "class_labels = list(validation_generator.class_indices.keys())\n",
        "\n",
        "print('Confusion Matrix')\n",
        "conf = confusion_matrix(validation_generator.classes, y_pred)\n",
        "print(conf)\n",
        "print()\n",
        "print('Classification Report')\n",
        "target_names = ['COVID19', 'NORMAL', 'PNEUMONIA']\n",
        "print(classification_report(true_classes, y_pred, target_names=class_labels))"
      ],
      "execution_count": null,
      "outputs": [
        {
          "output_type": "stream",
          "text": [
            "Confusion Matrix\n",
            "[[96  3  1]\n",
            " [ 0 98  2]\n",
            " [ 0  7 93]]\n",
            "\n",
            "Classification Report\n",
            "              precision    recall  f1-score   support\n",
            "\n",
            "     COVID19       1.00      0.96      0.98       100\n",
            "      NORMAL       0.91      0.98      0.94       100\n",
            "   PNEUMONIA       0.97      0.93      0.95       100\n",
            "\n",
            "    accuracy                           0.96       300\n",
            "   macro avg       0.96      0.96      0.96       300\n",
            "weighted avg       0.96      0.96      0.96       300\n",
            "\n"
          ],
          "name": "stdout"
        }
      ]
    },
    {
      "cell_type": "code",
      "metadata": {
        "colab": {
          "base_uri": "https://localhost:8080/",
          "height": 282
        },
        "id": "XcaNIR9-z36J",
        "outputId": "c60b3daa-af2d-4937-e65c-ce0653c97600"
      },
      "source": [
        "sns.heatmap(conf, annot=True, fmt=\"d\")"
      ],
      "execution_count": null,
      "outputs": [
        {
          "output_type": "execute_result",
          "data": {
            "text/plain": [
              "<matplotlib.axes._subplots.AxesSubplot at 0x7fb5c827f9d0>"
            ]
          },
          "metadata": {
            "tags": []
          },
          "execution_count": 20
        },
        {
          "output_type": "display_data",
          "data": {
            "image/png": "[encoded data removed]",
            "text/plain": [
              "<Figure size 432x288 with 2 Axes>"
            ]
          },
          "metadata": {
            "tags": [],
            "needs_background": "light"
          }
        }
      ]
    },
    {
      "cell_type": "code",
      "metadata": {
        "id": "QPXxIBmw3xyS"
      },
      "source": [
        ""
      ],
      "execution_count": null,
      "outputs": []
    },
    {
      "cell_type": "code",
      "metadata": {
        "id": "ld2-k4ngZ9W9"
      },
      "source": [
        ""
      ],
      "execution_count": null,
      "outputs": []
    },
    {
      "cell_type": "markdown",
      "metadata": {
        "id": "CAgANfsnZ-yf"
      },
      "source": [
        "# **Training to 100%:**"
      ]
    },
    {
      "cell_type": "code",
      "metadata": {
        "colab": {
          "base_uri": "https://localhost:8080/"
        },
        "id": "FEX96q6AZ9Ru",
        "outputId": "08f9dbbf-e58d-4cad-8595-31abf53e1726"
      },
      "source": [
        "# ResNet152V2\n",
        "img_width, img_height = 320, 320\n",
        "\n",
        "train_data_dir = \"/content/drive/MyDrive/Colab Notebooks/XraysData_augmented/train\"\n",
        "validation_data_dir = \"/content/drive/MyDrive/Colab Notebooks/XraysData_augmented/test\"\n",
        "nb_train_samples = 12160 \n",
        "nb_validation_samples = 300\n",
        "epochs = 25\n",
        "batch_size = 64\n",
        "\n",
        "input_shape = (img_width, img_height, 3) \n",
        "\n",
        "ResNet=ResNet152V2(include_top=False,weights='imagenet',input_shape=input_shape)\n",
        "\n",
        "for layer in ResNet.layers:\n",
        "   layer.trainable = False\n",
        "\n",
        "x=GlobalAveragePooling2D()(ResNet.output)\n",
        "x=Dense(512, activation='relu')(x)\n",
        "prediction=Dense(3,activation='softmax')(x)\n",
        "model=Model(inputs=ResNet.input,outputs=prediction)\n",
        "\n",
        "model.compile(optimizer='adam', loss='categorical_crossentropy', metrics=['accuracy'])\n",
        "\n",
        "train_datagen = ImageDataGenerator( \n",
        "    rescale=1. / 255, \n",
        "    rotation_range=20,\n",
        "    shear_range=0.2, \n",
        "    zoom_range=0.2, \n",
        "    horizontal_flip=True) \n",
        "  \n",
        "test_datagen = ImageDataGenerator(rescale=1. / 255) \n",
        "  \n",
        "train_generator = train_datagen.flow_from_directory( \n",
        "    train_data_dir, \n",
        "    target_size=(img_width, img_height), \n",
        "    batch_size=batch_size, \n",
        "    class_mode='categorical') \n",
        "  \n",
        "validation_generator = test_datagen.flow_from_directory( \n",
        "    validation_data_dir, \n",
        "    target_size=(img_width, img_height), \n",
        "    batch_size=batch_size, \n",
        "    class_mode='categorical',\n",
        "    shuffle=False) \n",
        "\n",
        "now = datetime.datetime.now()\n",
        "print (\"Current date and time : \")\n",
        "print (now.strftime(\"%Y-%m-%d %H:%M:%S\"))\n",
        "\n",
        "es = EarlyStopping(monitor='val_loss', mode='min', verbose=1, patience=3)\n",
        "\n",
        "class MyThresholdCallback(tf.keras.callbacks.Callback):\n",
        "    def __init__(self, threshold):\n",
        "        super(MyThresholdCallback, self).__init__()\n",
        "        self.threshold = threshold\n",
        "\n",
        "    def on_epoch_end(self, epoch, logs=None): \n",
        "        val_acc = logs[\"val_acc\"]\n",
        "        if val_acc >= self.threshold:\n",
        "            self.model.stop_training = True\n",
        "\n",
        "keepTraining = MyThresholdCallback(threshold=0.99)\n",
        "\n",
        "h = model.fit( \n",
        "    train_generator, \n",
        "    steps_per_epoch=nb_train_samples // batch_size, \n",
        "    epochs=epochs, \n",
        "    validation_data=validation_generator, \n",
        "    validation_steps=nb_validation_samples // batch_size,\n",
        "    callbacks=[keepTraining])"
      ],
      "execution_count": null,
      "outputs": [
        {
          "output_type": "stream",
          "text": [
            "Found 12160 images belonging to 3 classes.\n",
            "Found 300 images belonging to 3 classes.\n",
            "Current date and time : \n",
            "2021-04-12 10:48:09\n",
            "Epoch 1/25\n",
            "190/190 [==============================] - 603s 3s/step - loss: 0.3143 - accuracy: 0.8841 - val_loss: 0.2008 - val_accuracy: 0.9258\n",
            "Epoch 2/25\n",
            "190/190 [==============================] - 580s 3s/step - loss: 0.1214 - accuracy: 0.9591 - val_loss: 0.1130 - val_accuracy: 0.9570\n",
            "Epoch 3/25\n",
            "190/190 [==============================] - 575s 3s/step - loss: 0.0975 - accuracy: 0.9655 - val_loss: 0.1563 - val_accuracy: 0.9258\n",
            "Epoch 4/25\n",
            "190/190 [==============================] - 576s 3s/step - loss: 0.0903 - accuracy: 0.9680 - val_loss: 0.0748 - val_accuracy: 0.9688\n",
            "Epoch 5/25\n",
            "190/190 [==============================] - 574s 3s/step - loss: 0.0754 - accuracy: 0.9741 - val_loss: 0.0550 - val_accuracy: 0.9805\n",
            "Epoch 6/25\n",
            "190/190 [==============================] - 576s 3s/step - loss: 0.0840 - accuracy: 0.9694 - val_loss: 0.0847 - val_accuracy: 0.9727\n",
            "Epoch 7/25\n",
            " 42/190 [=====>........................] - ETA: 7:27 - loss: 0.0746 - accuracy: 0.9692"
          ],
          "name": "stdout"
        }
      ]
    },
    {
      "cell_type": "code",
      "metadata": {
        "id": "u0ETt85Ssfue"
      },
      "source": [
        ""
      ],
      "execution_count": null,
      "outputs": []
    }
  ]
}